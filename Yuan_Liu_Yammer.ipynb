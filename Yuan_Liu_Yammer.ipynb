{
 "cells": [
  {
   "cell_type": "markdown",
   "metadata": {},
   "source": [
    "# Problem\n",
    "Decreased Weekly Active Users from the end of July through August\n",
    "\n",
    "# Objective\n",
    "Find out why? List your hypothesis.\n",
    "\n",
    "Situation\n",
    "Product\n",
    "Customer\n",
    "\n",
    "1. Situation: is it holiday? / most of users are taking personal holidays? \n",
    "\n",
    "--> Need to compare with past trend\n",
    "\n",
    "2. Customer: is it due to decreased new users joining or decreased engagement of current users?\n",
    "\n",
    "--> Check trend of new users and current users to find out who (or which customer segment) decreased engagement\n",
    "\n",
    "3. Product: which feature of the product/categories of product usage is losing customers?\n",
    "\n",
    "--> Need to look at product features usage data; \n",
    "\n",
    "\n",
    "4. Competitor: Is it because it lose customers to competitors? Are they lauching new features? Are they having a new pricing strategy? Running a promotion? New marketing efforts?\n",
    "\n",
    "--> Look into competitors product/marketing strategy, etc.\n",
    "\n",
    "\n",
    "\n",
    "# Findings\n",
    "\n",
    "1. Not due to new user acquisition. \n",
    "2. The engagement for phone users has a significant drop. Is the Yammer product not user-friendly in app version?\n",
    "3. Email click through rate droped during this period. It means that users has decreased interest in clicking links in the email. One linkage is that users that use phones may be less interested in clicking links. Could there be any product optimization in this feature?\n",
    "4. Cohort analysis indicates that users retention rate dropped to around 25% after 2 to 3 months\n",
    "5. To do list: groupby user type, language, event names, etc."
   ]
  },
  {
   "cell_type": "code",
   "execution_count": 1,
   "metadata": {},
   "outputs": [],
   "source": [
    "#import neccessary libraries\n",
    "import numpy as np\n",
    "import pandas as pd\n",
    "\n",
    "import seaborn as sns\n",
    "import matplotlib.pyplot as plt\n",
    "pd.set_option('display.float_format', lambda x: '%.3f' % x)   \n",
    "pd.set_option('display.max_columns',None)\n",
    "pd.set_option('display.max_rows',None)\n",
    "pd.set_option('max_colwidth',100)\n",
    "import warnings\n",
    "import scipy\n",
    "warnings.filterwarnings(\"ignore\")\n"
   ]
  },
  {
   "cell_type": "code",
   "execution_count": 383,
   "metadata": {},
   "outputs": [],
   "source": [
    "users = pd.read_csv('yammer_users.csv')\n",
    "events = pd.read_csv('yammer_events.csv')\n",
    "emails = pd.read_csv('yammer_emails.csv')\n",
    "rollup = pd.read_csv('dimension_rollup_periods.csv')"
   ]
  },
  {
   "cell_type": "code",
   "execution_count": 10,
   "metadata": {},
   "outputs": [
    {
     "name": "stdout",
     "output_type": "stream",
     "text": [
      "(19066, 6)\n"
     ]
    },
    {
     "data": {
      "text/html": [
       "<div>\n",
       "<style scoped>\n",
       "    .dataframe tbody tr th:only-of-type {\n",
       "        vertical-align: middle;\n",
       "    }\n",
       "\n",
       "    .dataframe tbody tr th {\n",
       "        vertical-align: top;\n",
       "    }\n",
       "\n",
       "    .dataframe thead th {\n",
       "        text-align: right;\n",
       "    }\n",
       "</style>\n",
       "<table border=\"1\" class=\"dataframe\">\n",
       "  <thead>\n",
       "    <tr style=\"text-align: right;\">\n",
       "      <th></th>\n",
       "      <th>user_id</th>\n",
       "      <th>created_at</th>\n",
       "      <th>company_id</th>\n",
       "      <th>language</th>\n",
       "      <th>activated_at</th>\n",
       "      <th>state</th>\n",
       "    </tr>\n",
       "  </thead>\n",
       "  <tbody>\n",
       "    <tr>\n",
       "      <th>0</th>\n",
       "      <td>0.000</td>\n",
       "      <td>2013-01-01 20:59:39</td>\n",
       "      <td>5737.000</td>\n",
       "      <td>english</td>\n",
       "      <td>2013-01-01 21:01:07</td>\n",
       "      <td>active</td>\n",
       "    </tr>\n",
       "    <tr>\n",
       "      <th>1</th>\n",
       "      <td>1.000</td>\n",
       "      <td>2013-01-01 13:07:46</td>\n",
       "      <td>28.000</td>\n",
       "      <td>english</td>\n",
       "      <td>NaN</td>\n",
       "      <td>pending</td>\n",
       "    </tr>\n",
       "    <tr>\n",
       "      <th>2</th>\n",
       "      <td>2.000</td>\n",
       "      <td>2013-01-01 10:59:05</td>\n",
       "      <td>51.000</td>\n",
       "      <td>english</td>\n",
       "      <td>NaN</td>\n",
       "      <td>pending</td>\n",
       "    </tr>\n",
       "    <tr>\n",
       "      <th>3</th>\n",
       "      <td>3.000</td>\n",
       "      <td>2013-01-01 18:40:36</td>\n",
       "      <td>2800.000</td>\n",
       "      <td>german</td>\n",
       "      <td>2013-01-01 18:42:02</td>\n",
       "      <td>active</td>\n",
       "    </tr>\n",
       "    <tr>\n",
       "      <th>4</th>\n",
       "      <td>4.000</td>\n",
       "      <td>2013-01-01 14:37:51</td>\n",
       "      <td>5110.000</td>\n",
       "      <td>indian</td>\n",
       "      <td>2013-01-01 14:39:05</td>\n",
       "      <td>active</td>\n",
       "    </tr>\n",
       "  </tbody>\n",
       "</table>\n",
       "</div>"
      ],
      "text/plain": [
       "   user_id           created_at  company_id language         activated_at  \\\n",
       "0    0.000  2013-01-01 20:59:39    5737.000  english  2013-01-01 21:01:07   \n",
       "1    1.000  2013-01-01 13:07:46      28.000  english                  NaN   \n",
       "2    2.000  2013-01-01 10:59:05      51.000  english                  NaN   \n",
       "3    3.000  2013-01-01 18:40:36    2800.000   german  2013-01-01 18:42:02   \n",
       "4    4.000  2013-01-01 14:37:51    5110.000   indian  2013-01-01 14:39:05   \n",
       "\n",
       "     state  \n",
       "0   active  \n",
       "1  pending  \n",
       "2  pending  \n",
       "3   active  \n",
       "4   active  "
      ]
     },
     "execution_count": 10,
     "metadata": {},
     "output_type": "execute_result"
    }
   ],
   "source": [
    "print(users.shape)\n",
    "users.head()"
   ]
  },
  {
   "cell_type": "code",
   "execution_count": 11,
   "metadata": {},
   "outputs": [
    {
     "name": "stdout",
     "output_type": "stream",
     "text": [
      "(340832, 7)\n"
     ]
    },
    {
     "data": {
      "text/html": [
       "<div>\n",
       "<style scoped>\n",
       "    .dataframe tbody tr th:only-of-type {\n",
       "        vertical-align: middle;\n",
       "    }\n",
       "\n",
       "    .dataframe tbody tr th {\n",
       "        vertical-align: top;\n",
       "    }\n",
       "\n",
       "    .dataframe thead th {\n",
       "        text-align: right;\n",
       "    }\n",
       "</style>\n",
       "<table border=\"1\" class=\"dataframe\">\n",
       "  <thead>\n",
       "    <tr style=\"text-align: right;\">\n",
       "      <th></th>\n",
       "      <th>user_id</th>\n",
       "      <th>occurred_at</th>\n",
       "      <th>event_type</th>\n",
       "      <th>event_name</th>\n",
       "      <th>location</th>\n",
       "      <th>device</th>\n",
       "      <th>user_type</th>\n",
       "    </tr>\n",
       "  </thead>\n",
       "  <tbody>\n",
       "    <tr>\n",
       "      <th>0</th>\n",
       "      <td>10522.000</td>\n",
       "      <td>2014-05-02 11:02:39</td>\n",
       "      <td>engagement</td>\n",
       "      <td>login</td>\n",
       "      <td>Japan</td>\n",
       "      <td>dell inspiron notebook</td>\n",
       "      <td>3.000</td>\n",
       "    </tr>\n",
       "    <tr>\n",
       "      <th>1</th>\n",
       "      <td>10522.000</td>\n",
       "      <td>2014-05-02 11:02:53</td>\n",
       "      <td>engagement</td>\n",
       "      <td>home_page</td>\n",
       "      <td>Japan</td>\n",
       "      <td>dell inspiron notebook</td>\n",
       "      <td>3.000</td>\n",
       "    </tr>\n",
       "    <tr>\n",
       "      <th>2</th>\n",
       "      <td>10522.000</td>\n",
       "      <td>2014-05-02 11:03:28</td>\n",
       "      <td>engagement</td>\n",
       "      <td>like_message</td>\n",
       "      <td>Japan</td>\n",
       "      <td>dell inspiron notebook</td>\n",
       "      <td>3.000</td>\n",
       "    </tr>\n",
       "    <tr>\n",
       "      <th>3</th>\n",
       "      <td>10522.000</td>\n",
       "      <td>2014-05-02 11:04:09</td>\n",
       "      <td>engagement</td>\n",
       "      <td>view_inbox</td>\n",
       "      <td>Japan</td>\n",
       "      <td>dell inspiron notebook</td>\n",
       "      <td>3.000</td>\n",
       "    </tr>\n",
       "    <tr>\n",
       "      <th>4</th>\n",
       "      <td>10522.000</td>\n",
       "      <td>2014-05-02 11:03:16</td>\n",
       "      <td>engagement</td>\n",
       "      <td>search_run</td>\n",
       "      <td>Japan</td>\n",
       "      <td>dell inspiron notebook</td>\n",
       "      <td>3.000</td>\n",
       "    </tr>\n",
       "  </tbody>\n",
       "</table>\n",
       "</div>"
      ],
      "text/plain": [
       "    user_id          occurred_at  event_type    event_name location  \\\n",
       "0 10522.000  2014-05-02 11:02:39  engagement         login    Japan   \n",
       "1 10522.000  2014-05-02 11:02:53  engagement     home_page    Japan   \n",
       "2 10522.000  2014-05-02 11:03:28  engagement  like_message    Japan   \n",
       "3 10522.000  2014-05-02 11:04:09  engagement    view_inbox    Japan   \n",
       "4 10522.000  2014-05-02 11:03:16  engagement    search_run    Japan   \n",
       "\n",
       "                   device  user_type  \n",
       "0  dell inspiron notebook      3.000  \n",
       "1  dell inspiron notebook      3.000  \n",
       "2  dell inspiron notebook      3.000  \n",
       "3  dell inspiron notebook      3.000  \n",
       "4  dell inspiron notebook      3.000  "
      ]
     },
     "execution_count": 11,
     "metadata": {},
     "output_type": "execute_result"
    }
   ],
   "source": [
    "print(events.shape)\n",
    "events.head()"
   ]
  },
  {
   "cell_type": "code",
   "execution_count": 12,
   "metadata": {},
   "outputs": [
    {
     "name": "stdout",
     "output_type": "stream",
     "text": [
      "(90389, 4)\n"
     ]
    },
    {
     "data": {
      "text/html": [
       "<div>\n",
       "<style scoped>\n",
       "    .dataframe tbody tr th:only-of-type {\n",
       "        vertical-align: middle;\n",
       "    }\n",
       "\n",
       "    .dataframe tbody tr th {\n",
       "        vertical-align: top;\n",
       "    }\n",
       "\n",
       "    .dataframe thead th {\n",
       "        text-align: right;\n",
       "    }\n",
       "</style>\n",
       "<table border=\"1\" class=\"dataframe\">\n",
       "  <thead>\n",
       "    <tr style=\"text-align: right;\">\n",
       "      <th></th>\n",
       "      <th>user_id</th>\n",
       "      <th>occurred_at</th>\n",
       "      <th>action</th>\n",
       "      <th>user_type</th>\n",
       "    </tr>\n",
       "  </thead>\n",
       "  <tbody>\n",
       "    <tr>\n",
       "      <th>0</th>\n",
       "      <td>0.000</td>\n",
       "      <td>2014-05-06 09:30:00</td>\n",
       "      <td>sent_weekly_digest</td>\n",
       "      <td>1.000</td>\n",
       "    </tr>\n",
       "    <tr>\n",
       "      <th>1</th>\n",
       "      <td>0.000</td>\n",
       "      <td>2014-05-13 09:30:00</td>\n",
       "      <td>sent_weekly_digest</td>\n",
       "      <td>1.000</td>\n",
       "    </tr>\n",
       "    <tr>\n",
       "      <th>2</th>\n",
       "      <td>0.000</td>\n",
       "      <td>2014-05-20 09:30:00</td>\n",
       "      <td>sent_weekly_digest</td>\n",
       "      <td>1.000</td>\n",
       "    </tr>\n",
       "    <tr>\n",
       "      <th>3</th>\n",
       "      <td>0.000</td>\n",
       "      <td>2014-05-27 09:30:00</td>\n",
       "      <td>sent_weekly_digest</td>\n",
       "      <td>1.000</td>\n",
       "    </tr>\n",
       "    <tr>\n",
       "      <th>4</th>\n",
       "      <td>0.000</td>\n",
       "      <td>2014-06-03 09:30:00</td>\n",
       "      <td>sent_weekly_digest</td>\n",
       "      <td>1.000</td>\n",
       "    </tr>\n",
       "  </tbody>\n",
       "</table>\n",
       "</div>"
      ],
      "text/plain": [
       "   user_id          occurred_at              action  user_type\n",
       "0    0.000  2014-05-06 09:30:00  sent_weekly_digest      1.000\n",
       "1    0.000  2014-05-13 09:30:00  sent_weekly_digest      1.000\n",
       "2    0.000  2014-05-20 09:30:00  sent_weekly_digest      1.000\n",
       "3    0.000  2014-05-27 09:30:00  sent_weekly_digest      1.000\n",
       "4    0.000  2014-06-03 09:30:00  sent_weekly_digest      1.000"
      ]
     },
     "execution_count": 12,
     "metadata": {},
     "output_type": "execute_result"
    }
   ],
   "source": [
    "print(emails.shape)\n",
    "emails.head()"
   ]
  },
  {
   "cell_type": "code",
   "execution_count": 13,
   "metadata": {},
   "outputs": [
    {
     "name": "stdout",
     "output_type": "stream",
     "text": [
      "(56002, 6)\n"
     ]
    },
    {
     "data": {
      "text/html": [
       "<div>\n",
       "<style scoped>\n",
       "    .dataframe tbody tr th:only-of-type {\n",
       "        vertical-align: middle;\n",
       "    }\n",
       "\n",
       "    .dataframe tbody tr th {\n",
       "        vertical-align: top;\n",
       "    }\n",
       "\n",
       "    .dataframe thead th {\n",
       "        text-align: right;\n",
       "    }\n",
       "</style>\n",
       "<table border=\"1\" class=\"dataframe\">\n",
       "  <thead>\n",
       "    <tr style=\"text-align: right;\">\n",
       "      <th></th>\n",
       "      <th>period_id</th>\n",
       "      <th>time_id</th>\n",
       "      <th>pst_start</th>\n",
       "      <th>pst_end</th>\n",
       "      <th>utc_start</th>\n",
       "      <th>utc_end</th>\n",
       "    </tr>\n",
       "  </thead>\n",
       "  <tbody>\n",
       "    <tr>\n",
       "      <th>0</th>\n",
       "      <td>1.000</td>\n",
       "      <td>2013-01-01 00:00:00</td>\n",
       "      <td>2013-01-01 00:00:00</td>\n",
       "      <td>2013-01-02 00:00:00</td>\n",
       "      <td>2013-01-01 08:00:00</td>\n",
       "      <td>2013-01-02 08:00:00</td>\n",
       "    </tr>\n",
       "    <tr>\n",
       "      <th>1</th>\n",
       "      <td>1.000</td>\n",
       "      <td>2013-01-02 00:00:00</td>\n",
       "      <td>2013-01-02 00:00:00</td>\n",
       "      <td>2013-01-03 00:00:00</td>\n",
       "      <td>2013-01-02 08:00:00</td>\n",
       "      <td>2013-01-03 08:00:00</td>\n",
       "    </tr>\n",
       "    <tr>\n",
       "      <th>2</th>\n",
       "      <td>1.000</td>\n",
       "      <td>2013-01-03 00:00:00</td>\n",
       "      <td>2013-01-03 00:00:00</td>\n",
       "      <td>2013-01-04 00:00:00</td>\n",
       "      <td>2013-01-03 08:00:00</td>\n",
       "      <td>2013-01-04 08:00:00</td>\n",
       "    </tr>\n",
       "    <tr>\n",
       "      <th>3</th>\n",
       "      <td>1.000</td>\n",
       "      <td>2013-01-04 00:00:00</td>\n",
       "      <td>2013-01-04 00:00:00</td>\n",
       "      <td>2013-01-05 00:00:00</td>\n",
       "      <td>2013-01-04 08:00:00</td>\n",
       "      <td>2013-01-05 08:00:00</td>\n",
       "    </tr>\n",
       "    <tr>\n",
       "      <th>4</th>\n",
       "      <td>1.000</td>\n",
       "      <td>2013-01-05 00:00:00</td>\n",
       "      <td>2013-01-05 00:00:00</td>\n",
       "      <td>2013-01-06 00:00:00</td>\n",
       "      <td>2013-01-05 08:00:00</td>\n",
       "      <td>2013-01-06 08:00:00</td>\n",
       "    </tr>\n",
       "  </tbody>\n",
       "</table>\n",
       "</div>"
      ],
      "text/plain": [
       "   period_id              time_id            pst_start              pst_end  \\\n",
       "0      1.000  2013-01-01 00:00:00  2013-01-01 00:00:00  2013-01-02 00:00:00   \n",
       "1      1.000  2013-01-02 00:00:00  2013-01-02 00:00:00  2013-01-03 00:00:00   \n",
       "2      1.000  2013-01-03 00:00:00  2013-01-03 00:00:00  2013-01-04 00:00:00   \n",
       "3      1.000  2013-01-04 00:00:00  2013-01-04 00:00:00  2013-01-05 00:00:00   \n",
       "4      1.000  2013-01-05 00:00:00  2013-01-05 00:00:00  2013-01-06 00:00:00   \n",
       "\n",
       "             utc_start              utc_end  \n",
       "0  2013-01-01 08:00:00  2013-01-02 08:00:00  \n",
       "1  2013-01-02 08:00:00  2013-01-03 08:00:00  \n",
       "2  2013-01-03 08:00:00  2013-01-04 08:00:00  \n",
       "3  2013-01-04 08:00:00  2013-01-05 08:00:00  \n",
       "4  2013-01-05 08:00:00  2013-01-06 08:00:00  "
      ]
     },
     "execution_count": 13,
     "metadata": {},
     "output_type": "execute_result"
    }
   ],
   "source": [
    "print(rollup.shape)\n",
    "rollup.head()"
   ]
  },
  {
   "cell_type": "code",
   "execution_count": 24,
   "metadata": {},
   "outputs": [
    {
     "name": "stdout",
     "output_type": "stream",
     "text": [
      "        user_id  company_id\n",
      "count 19066.000   19066.000\n",
      "mean   9532.500    4602.923\n",
      "std    5504.024    4363.468\n",
      "min       0.000       1.000\n",
      "25%    4766.250     109.000\n",
      "50%    9532.500    3667.500\n",
      "75%   14298.750    8431.750\n",
      "max   19065.000   13198.000\n",
      "number of unique users:  19066\n",
      "***\n",
      "         user_id  user_type\n",
      "count 340832.000 325255.000\n",
      "mean    9983.836      1.512\n",
      "std     5369.956      0.755\n",
      "min        4.000      1.000\n",
      "25%     5224.000      1.000\n",
      "50%    11069.000      1.000\n",
      "75%    14412.000      2.000\n",
      "max    19065.000      3.000\n",
      "number of users that have an event:  9760\n",
      "***\n",
      "        user_id  user_type\n",
      "count 90389.000  90389.000\n",
      "mean   8635.558      2.098\n",
      "std    4957.735      0.849\n",
      "min       0.000      1.000\n",
      "25%    4426.000      1.000\n",
      "50%    8631.000      2.000\n",
      "75%   12670.000      3.000\n",
      "max   19001.000      3.000\n",
      "number of users that have an email event:  6179\n"
     ]
    }
   ],
   "source": [
    "# check the range of user id before merging tables\n",
    "print(users.describe())\n",
    "print('number of unique users: ', users.user_id.nunique())\n",
    "print('***')\n",
    "      \n",
    "print(events.describe())\n",
    "print('number of users that have an event: ',events.user_id.nunique())\n",
    "print('***')\n",
    "      \n",
    "print(emails.describe())\n",
    "print('number of users that have an email event: ',emails.user_id.nunique())\n"
   ]
  },
  {
   "cell_type": "markdown",
   "metadata": {},
   "source": [
    "## Look into users table to understand new user trend "
   ]
  },
  {
   "cell_type": "code",
   "execution_count": 53,
   "metadata": {},
   "outputs": [
    {
     "name": "stdout",
     "output_type": "stream",
     "text": [
      "<class 'pandas.core.frame.DataFrame'>\n",
      "RangeIndex: 19066 entries, 0 to 19065\n",
      "Data columns (total 6 columns):\n",
      "user_id         19066 non-null float64\n",
      "created_at      19066 non-null datetime64[ns]\n",
      "company_id      19066 non-null float64\n",
      "language        19066 non-null object\n",
      "activated_at    9381 non-null datetime64[ns]\n",
      "state           19066 non-null object\n",
      "dtypes: datetime64[ns](2), float64(2), object(2)\n",
      "memory usage: 893.8+ KB\n"
     ]
    }
   ],
   "source": [
    "# check data types and null\n",
    "users.info()"
   ]
  },
  {
   "cell_type": "markdown",
   "metadata": {},
   "source": [
    "looks like only half of users activated their accounts after creating accounts"
   ]
  },
  {
   "cell_type": "code",
   "execution_count": 277,
   "metadata": {},
   "outputs": [],
   "source": [
    "# convert to datetime\n",
    "users['created_at'] = pd.to_datetime(users['created_at'], format='%Y-%m-%d %H:%M:%S')\n",
    "users['activated_at'] = pd.to_datetime(users['activated_at'], format='%Y-%m-%d %H:%M:%S')\n"
   ]
  },
  {
   "cell_type": "code",
   "execution_count": 278,
   "metadata": {},
   "outputs": [
    {
     "name": "stdout",
     "output_type": "stream",
     "text": [
      "2013-01-01 04:38:30\n",
      "2014-08-31 20:40:32\n"
     ]
    }
   ],
   "source": [
    "print(users.created_at.min())\n",
    "print(users.created_at.max())"
   ]
  },
  {
   "cell_type": "code",
   "execution_count": 56,
   "metadata": {},
   "outputs": [
    {
     "name": "stdout",
     "output_type": "stream",
     "text": [
      "user_id : 19066\n",
      "created_at : 19056\n",
      "company_id : 13198\n",
      "language : 12\n",
      "activated_at : 9379\n",
      "state : 2\n"
     ]
    }
   ],
   "source": [
    "#  check number of unique values for each column\n",
    "def unique_counts(df):\n",
    "    for i in df.columns:\n",
    "        count = df[i].nunique()\n",
    "        print(i, \":\", count)\n",
    "unique_counts(users)"
   ]
  },
  {
   "cell_type": "code",
   "execution_count": 57,
   "metadata": {},
   "outputs": [],
   "source": [
    "# define a function to describe data\n",
    "def rstr(df, pred=None): \n",
    "    obs = df.shape[0]\n",
    "    types = df.dtypes\n",
    "    counts = df.apply(lambda x: x.count())\n",
    "    uniques = df.apply(lambda x: [x.unique()])\n",
    "    nulls = df.apply(lambda x: x.isnull().sum())\n",
    "    distincts = df.apply(lambda x: x.unique().shape[0])\n",
    "    missing_ratio = (df.isnull().sum()/ obs) * 100\n",
    "    skewness = df.skew()\n",
    "    kurtosis = df.kurt() \n",
    "    print('Data shape:', df.shape)\n",
    "    \n",
    "    if pred is None:\n",
    "        cols = ['types', 'counts', 'distincts', 'nulls', 'missing ratio', 'uniques', 'skewness', 'kurtosis']\n",
    "        str = pd.concat([types, counts, distincts, nulls, missing_ratio, uniques, skewness, kurtosis], axis = 1, sort=True)\n",
    "\n",
    "    else:\n",
    "        corr = df.corr()[pred]\n",
    "        str = pd.concat([types, counts, distincts, nulls, missing_ration, uniques, skewness, kurtosis, corr], axis = 1, sort=True)\n",
    "        corr_col = 'corr '  + pred\n",
    "        cols = ['types', 'counts', 'distincts', 'nulls', 'missing ratio', 'uniques', 'skewness', 'kurtosis', corr_col ]\n",
    "    \n",
    "    str.columns = cols\n",
    "    dtypes = str.types.value_counts()\n",
    "    print('___________________________\\nData types:\\n',str.types.value_counts())\n",
    "    print('___________________________')\n",
    "    return str"
   ]
  },
  {
   "cell_type": "code",
   "execution_count": 58,
   "metadata": {},
   "outputs": [
    {
     "name": "stdout",
     "output_type": "stream",
     "text": [
      "Data shape: (19066, 6)\n",
      "___________________________\n",
      "Data types:\n",
      " float64           2\n",
      "object            2\n",
      "datetime64[ns]    2\n",
      "Name: types, dtype: int64\n",
      "___________________________\n"
     ]
    },
    {
     "data": {
      "text/html": [
       "<div>\n",
       "<style scoped>\n",
       "    .dataframe tbody tr th:only-of-type {\n",
       "        vertical-align: middle;\n",
       "    }\n",
       "\n",
       "    .dataframe tbody tr th {\n",
       "        vertical-align: top;\n",
       "    }\n",
       "\n",
       "    .dataframe thead th {\n",
       "        text-align: right;\n",
       "    }\n",
       "</style>\n",
       "<table border=\"1\" class=\"dataframe\">\n",
       "  <thead>\n",
       "    <tr style=\"text-align: right;\">\n",
       "      <th></th>\n",
       "      <th>types</th>\n",
       "      <th>counts</th>\n",
       "      <th>distincts</th>\n",
       "      <th>nulls</th>\n",
       "      <th>missing ratio</th>\n",
       "      <th>uniques</th>\n",
       "      <th>skewness</th>\n",
       "      <th>kurtosis</th>\n",
       "    </tr>\n",
       "  </thead>\n",
       "  <tbody>\n",
       "    <tr>\n",
       "      <th>activated_at</th>\n",
       "      <td>datetime64[ns]</td>\n",
       "      <td>9381</td>\n",
       "      <td>9380</td>\n",
       "      <td>9685</td>\n",
       "      <td>50.797</td>\n",
       "      <td>[[2013-01-01 21:01:07, NaT, 2013-01-01 18:42:02, 2013-01-01 14:39:05, 2013-01-01 18:38:45, 2013-...</td>\n",
       "      <td>nan</td>\n",
       "      <td>nan</td>\n",
       "    </tr>\n",
       "    <tr>\n",
       "      <th>company_id</th>\n",
       "      <td>float64</td>\n",
       "      <td>19066</td>\n",
       "      <td>13198</td>\n",
       "      <td>0</td>\n",
       "      <td>0.000</td>\n",
       "      <td>[[5737.0, 28.0, 51.0, 2800.0, 5110.0, 2463.0, 11699.0, 4765.0, 2698.0, 1.0, 10.0, 3745.0, 903.0,...</td>\n",
       "      <td>0.452</td>\n",
       "      <td>-1.230</td>\n",
       "    </tr>\n",
       "    <tr>\n",
       "      <th>created_at</th>\n",
       "      <td>datetime64[ns]</td>\n",
       "      <td>19066</td>\n",
       "      <td>19056</td>\n",
       "      <td>0</td>\n",
       "      <td>0.000</td>\n",
       "      <td>[[2013-01-01 20:59:39, 2013-01-01 13:07:46, 2013-01-01 10:59:05, 2013-01-01 18:40:36, 2013-01-01...</td>\n",
       "      <td>nan</td>\n",
       "      <td>nan</td>\n",
       "    </tr>\n",
       "    <tr>\n",
       "      <th>language</th>\n",
       "      <td>object</td>\n",
       "      <td>19066</td>\n",
       "      <td>12</td>\n",
       "      <td>0</td>\n",
       "      <td>0.000</td>\n",
       "      <td>[[english, german, indian, spanish, french, arabic, portugese, japanese, italian, chinese, russi...</td>\n",
       "      <td>nan</td>\n",
       "      <td>nan</td>\n",
       "    </tr>\n",
       "    <tr>\n",
       "      <th>state</th>\n",
       "      <td>object</td>\n",
       "      <td>19066</td>\n",
       "      <td>2</td>\n",
       "      <td>0</td>\n",
       "      <td>0.000</td>\n",
       "      <td>[[active, pending]]</td>\n",
       "      <td>nan</td>\n",
       "      <td>nan</td>\n",
       "    </tr>\n",
       "    <tr>\n",
       "      <th>user_id</th>\n",
       "      <td>float64</td>\n",
       "      <td>19066</td>\n",
       "      <td>19066</td>\n",
       "      <td>0</td>\n",
       "      <td>0.000</td>\n",
       "      <td>[[0.0, 1.0, 2.0, 3.0, 4.0, 5.0, 6.0, 7.0, 8.0, 9.0, 10.0, 11.0, 12.0, 13.0, 14.0, 15.0, 16.0, 17...</td>\n",
       "      <td>0.000</td>\n",
       "      <td>-1.200</td>\n",
       "    </tr>\n",
       "  </tbody>\n",
       "</table>\n",
       "</div>"
      ],
      "text/plain": [
       "                       types  counts  distincts  nulls  missing ratio  \\\n",
       "activated_at  datetime64[ns]    9381       9380   9685         50.797   \n",
       "company_id           float64   19066      13198      0          0.000   \n",
       "created_at    datetime64[ns]   19066      19056      0          0.000   \n",
       "language              object   19066         12      0          0.000   \n",
       "state                 object   19066          2      0          0.000   \n",
       "user_id              float64   19066      19066      0          0.000   \n",
       "\n",
       "                                                                                                          uniques  \\\n",
       "activated_at  [[2013-01-01 21:01:07, NaT, 2013-01-01 18:42:02, 2013-01-01 14:39:05, 2013-01-01 18:38:45, 2013-...   \n",
       "company_id    [[5737.0, 28.0, 51.0, 2800.0, 5110.0, 2463.0, 11699.0, 4765.0, 2698.0, 1.0, 10.0, 3745.0, 903.0,...   \n",
       "created_at    [[2013-01-01 20:59:39, 2013-01-01 13:07:46, 2013-01-01 10:59:05, 2013-01-01 18:40:36, 2013-01-01...   \n",
       "language      [[english, german, indian, spanish, french, arabic, portugese, japanese, italian, chinese, russi...   \n",
       "state                                                                                         [[active, pending]]   \n",
       "user_id       [[0.0, 1.0, 2.0, 3.0, 4.0, 5.0, 6.0, 7.0, 8.0, 9.0, 10.0, 11.0, 12.0, 13.0, 14.0, 15.0, 16.0, 17...   \n",
       "\n",
       "              skewness  kurtosis  \n",
       "activated_at       nan       nan  \n",
       "company_id       0.452    -1.230  \n",
       "created_at         nan       nan  \n",
       "language           nan       nan  \n",
       "state              nan       nan  \n",
       "user_id          0.000    -1.200  "
      ]
     },
     "metadata": {},
     "output_type": "display_data"
    }
   ],
   "source": [
    "details = rstr(users)\n",
    "display(details.sort_values(by='missing ratio', ascending=False))"
   ]
  },
  {
   "cell_type": "code",
   "execution_count": 60,
   "metadata": {},
   "outputs": [
    {
     "data": {
      "text/plain": [
       "english      9585\n",
       "spanish      1771\n",
       "french       1522\n",
       "japanese     1324\n",
       "german       1067\n",
       "arabic        768\n",
       "chinese       685\n",
       "indian        583\n",
       "russian       561\n",
       "portugese     510\n",
       "italian       420\n",
       "korean        270\n",
       "Name: language, dtype: int64"
      ]
     },
     "execution_count": 60,
     "metadata": {},
     "output_type": "execute_result"
    }
   ],
   "source": [
    "users.language.value_counts()"
   ]
  },
  {
   "cell_type": "code",
   "execution_count": 62,
   "metadata": {},
   "outputs": [
    {
     "data": {
      "text/plain": [
       "english     0.503\n",
       "spanish     0.093\n",
       "french      0.080\n",
       "japanese    0.069\n",
       "german      0.056\n",
       "arabic      0.040\n",
       "chinese     0.036\n",
       "indian      0.031\n",
       "russian     0.029\n",
       "portugese   0.027\n",
       "italian     0.022\n",
       "korean      0.014\n",
       "Name: language, dtype: float64"
      ]
     },
     "execution_count": 62,
     "metadata": {},
     "output_type": "execute_result"
    }
   ],
   "source": [
    "users.language.value_counts(normalize=True)"
   ]
  },
  {
   "cell_type": "code",
   "execution_count": 65,
   "metadata": {},
   "outputs": [
    {
     "data": {
      "text/html": [
       "<div>\n",
       "<style scoped>\n",
       "    .dataframe tbody tr th:only-of-type {\n",
       "        vertical-align: middle;\n",
       "    }\n",
       "\n",
       "    .dataframe tbody tr th {\n",
       "        vertical-align: top;\n",
       "    }\n",
       "\n",
       "    .dataframe thead th {\n",
       "        text-align: right;\n",
       "    }\n",
       "</style>\n",
       "<table border=\"1\" class=\"dataframe\">\n",
       "  <thead>\n",
       "    <tr style=\"text-align: right;\">\n",
       "      <th></th>\n",
       "      <th>language</th>\n",
       "      <th>user_id</th>\n",
       "      <th>Percentage</th>\n",
       "    </tr>\n",
       "  </thead>\n",
       "  <tbody>\n",
       "    <tr>\n",
       "      <th>2</th>\n",
       "      <td>english</td>\n",
       "      <td>9585</td>\n",
       "      <td>50.270</td>\n",
       "    </tr>\n",
       "    <tr>\n",
       "      <th>11</th>\n",
       "      <td>spanish</td>\n",
       "      <td>1771</td>\n",
       "      <td>9.290</td>\n",
       "    </tr>\n",
       "    <tr>\n",
       "      <th>3</th>\n",
       "      <td>french</td>\n",
       "      <td>1522</td>\n",
       "      <td>7.980</td>\n",
       "    </tr>\n",
       "    <tr>\n",
       "      <th>7</th>\n",
       "      <td>japanese</td>\n",
       "      <td>1324</td>\n",
       "      <td>6.940</td>\n",
       "    </tr>\n",
       "    <tr>\n",
       "      <th>4</th>\n",
       "      <td>german</td>\n",
       "      <td>1067</td>\n",
       "      <td>5.600</td>\n",
       "    </tr>\n",
       "    <tr>\n",
       "      <th>0</th>\n",
       "      <td>arabic</td>\n",
       "      <td>768</td>\n",
       "      <td>4.030</td>\n",
       "    </tr>\n",
       "    <tr>\n",
       "      <th>1</th>\n",
       "      <td>chinese</td>\n",
       "      <td>685</td>\n",
       "      <td>3.590</td>\n",
       "    </tr>\n",
       "    <tr>\n",
       "      <th>5</th>\n",
       "      <td>indian</td>\n",
       "      <td>583</td>\n",
       "      <td>3.060</td>\n",
       "    </tr>\n",
       "    <tr>\n",
       "      <th>10</th>\n",
       "      <td>russian</td>\n",
       "      <td>561</td>\n",
       "      <td>2.940</td>\n",
       "    </tr>\n",
       "    <tr>\n",
       "      <th>9</th>\n",
       "      <td>portugese</td>\n",
       "      <td>510</td>\n",
       "      <td>2.670</td>\n",
       "    </tr>\n",
       "    <tr>\n",
       "      <th>6</th>\n",
       "      <td>italian</td>\n",
       "      <td>420</td>\n",
       "      <td>2.200</td>\n",
       "    </tr>\n",
       "    <tr>\n",
       "      <th>8</th>\n",
       "      <td>korean</td>\n",
       "      <td>270</td>\n",
       "      <td>1.420</td>\n",
       "    </tr>\n",
       "  </tbody>\n",
       "</table>\n",
       "</div>"
      ],
      "text/plain": [
       "     language  user_id  Percentage\n",
       "2     english     9585      50.270\n",
       "11    spanish     1771       9.290\n",
       "3      french     1522       7.980\n",
       "7    japanese     1324       6.940\n",
       "4      german     1067       5.600\n",
       "0      arabic      768       4.030\n",
       "1     chinese      685       3.590\n",
       "5      indian      583       3.060\n",
       "10    russian      561       2.940\n",
       "9   portugese      510       2.670\n",
       "6     italian      420       2.200\n",
       "8      korean      270       1.420"
      ]
     },
     "execution_count": 65,
     "metadata": {},
     "output_type": "execute_result"
    }
   ],
   "source": [
    "# count the number of users by language\n",
    "user_country = users.groupby(['language'])['user_id'].aggregate('count').reset_index().sort_values('user_id',ascending=False)\n",
    "\n",
    "# calcualte percentage\n",
    "user_country['Percentage'] = round(user_country['user_id']/sum(user_country['user_id'])*100,2)\n",
    "\n",
    "user_country"
   ]
  },
  {
   "cell_type": "markdown",
   "metadata": {},
   "source": [
    "Half of users chose English language version of the app"
   ]
  },
  {
   "cell_type": "code",
   "execution_count": 247,
   "metadata": {},
   "outputs": [],
   "source": [
    "# set index\n",
    "users.set_index(users['created_at'],inplace=True)"
   ]
  },
  {
   "cell_type": "code",
   "execution_count": 252,
   "metadata": {},
   "outputs": [],
   "source": [
    "# group by date, check how many new users created accounts\n",
    "user_date = users['user_id'].resample('D',how='count')"
   ]
  },
  {
   "cell_type": "code",
   "execution_count": 106,
   "metadata": {},
   "outputs": [
    {
     "data": {
      "image/png": "[encoded data removed]",
      "text/plain": [
       "<Figure size 864x576 with 1 Axes>"
      ]
     },
     "metadata": {
      "needs_background": "light"
     },
     "output_type": "display_data"
    }
   ],
   "source": [
    "plt.figure(figsize=(12,8))\n",
    "plt.plot(user_date,color='g')\n",
    "plt.xlabel('Date')\n",
    "plt.ylabel('Number of New Users')\n",
    "plt.title('Date vs New Users')\n",
    "plt.show()"
   ]
  },
  {
   "cell_type": "code",
   "execution_count": 253,
   "metadata": {},
   "outputs": [],
   "source": [
    "# group by date, check how many new users activated accounts\n",
    "activated_date = users['activated_at'].resample('D',how='count')"
   ]
  },
  {
   "cell_type": "code",
   "execution_count": 251,
   "metadata": {},
   "outputs": [
    {
     "data": {
      "image/png": "[encoded data removed]",
      "text/plain": [
       "<Figure size 864x576 with 1 Axes>"
      ]
     },
     "metadata": {
      "needs_background": "light"
     },
     "output_type": "display_data"
    }
   ],
   "source": [
    "# plot \n",
    "start_date = pd.to_datetime('2014-05-1')\n",
    "end_date = pd.to_datetime('2014-08-31')\n",
    "\n",
    "plt.figure(figsize=(12,8))\n",
    "plt.plot(user_date[(start_date <= user_date.index) & (user_date.index <= end_date)],color='g',label='created')\n",
    "plt.plot(activated_date[(start_date <= activated_date.index) & (activated_date.index <= end_date)],color='r',label='activated')\n",
    "\n",
    "plt.xlabel('Date')\n",
    "plt.ylabel('Number of New Users')\n",
    "plt.title('Week vs New Users')\n",
    "\n",
    "# create vertical lines\n",
    "plt.axvline(pd.to_datetime('2014-08-01'),color='grey', linestyle='--', label='2014-08-01')\n",
    "plt.axvline(pd.to_datetime('2014-09-01'),color='grey', linestyle='--', label='2014-09-01')\n",
    "\n",
    "plt.legend()\n",
    "plt.show()"
   ]
  },
  {
   "cell_type": "code",
   "execution_count": 254,
   "metadata": {},
   "outputs": [],
   "source": [
    "# group by week, check how many new users created accounts\n",
    "user_week = users['user_id'].resample('W',how='count')\n"
   ]
  },
  {
   "cell_type": "code",
   "execution_count": 255,
   "metadata": {},
   "outputs": [],
   "source": [
    "activated_week = users['activated_at'].resample('W',how='count')"
   ]
  },
  {
   "cell_type": "code",
   "execution_count": 309,
   "metadata": {},
   "outputs": [
    {
     "data": {
      "image/png": "[encoded data removed]",
      "text/plain": [
       "<Figure size 864x576 with 1 Axes>"
      ]
     },
     "metadata": {
      "needs_background": "light"
     },
     "output_type": "display_data"
    }
   ],
   "source": [
    "plt.figure(figsize=(12,8))\n",
    "plt.plot(user_week,color='g',marker = '.',label='created')\n",
    "plt.plot(activated_week,color='r',marker='.',label='activated')\n",
    "\n",
    "plt.xlabel('Date')\n",
    "plt.ylabel('Number of New Users')\n",
    "plt.title('Week vs New Users')\n",
    "\n",
    "# create vertical lines\n",
    "plt.axvline(pd.to_datetime('2014-08-03'),color='grey', linestyle='--', label='2014-08-03')\n",
    "plt.axvline(pd.to_datetime('2014-09-01'),color='grey', linestyle='--', label='2014-09-01')\n",
    "\n",
    "plt.legend()\n",
    "plt.show()"
   ]
  },
  {
   "cell_type": "code",
   "execution_count": 308,
   "metadata": {},
   "outputs": [
    {
     "data": {
      "image/png": "[encoded data removed]",
      "text/plain": [
       "<Figure size 864x576 with 1 Axes>"
      ]
     },
     "metadata": {
      "needs_background": "light"
     },
     "output_type": "display_data"
    }
   ],
   "source": [
    "start_date = pd.to_datetime('2014-05-1')\n",
    "end_date = pd.to_datetime('2014-08-31')\n",
    "\n",
    "plt.figure(figsize=(12,8))\n",
    "plt.plot(user_week[(start_date <= user_week.index) & (user_week.index <= end_date)],color='g',marker = '.',label='created')\n",
    "plt.plot(activated_week[(start_date <= activated_week.index) & (activated_week.index <= end_date)],color='r',marker='.',label='activated')\n",
    "\n",
    "plt.xlabel('Date')\n",
    "plt.ylabel('Number of New Users')\n",
    "plt.title('Week vs New Users')\n",
    "\n",
    "# create vertical lines\n",
    "plt.axvline(pd.to_datetime('2014-08-03'),color='grey', linestyle='--', label='2014-08-03')\n",
    "plt.axvline(pd.to_datetime('2014-09-01'),color='grey', linestyle='--', label='2014-09-01')\n",
    "\n",
    "plt.legend()\n",
    "plt.show()"
   ]
  },
  {
   "cell_type": "markdown",
   "metadata": {},
   "source": [
    "Starting 2014/08/01, the number of new users has a slight drop in the first week of August, but the trend of increasing new users catched up after that. So the engagement issue should not be due to lack of new users. Let's look up exsiting users"
   ]
  },
  {
   "cell_type": "code",
   "execution_count": 44,
   "metadata": {},
   "outputs": [
    {
     "name": "stdout",
     "output_type": "stream",
     "text": [
      "english      9585\n",
      "spanish      1771\n",
      "french       1522\n",
      "japanese     1324\n",
      "german       1067\n",
      "arabic        768\n",
      "chinese       685\n",
      "indian        583\n",
      "russian       561\n",
      "portugese     510\n",
      "italian       420\n",
      "korean        270\n",
      "Name: language, dtype: int64\n",
      "pending    9685\n",
      "active     9381\n",
      "Name: state, dtype: int64\n"
     ]
    }
   ],
   "source": [
    "print(users.language.value_counts())\n",
    "print(users.state.value_counts())"
   ]
  },
  {
   "cell_type": "code",
   "execution_count": 45,
   "metadata": {},
   "outputs": [
    {
     "name": "stdout",
     "output_type": "stream",
     "text": [
      "<class 'pandas.core.frame.DataFrame'>\n",
      "RangeIndex: 19066 entries, 0 to 19065\n",
      "Data columns (total 6 columns):\n",
      "user_id         19066 non-null float64\n",
      "created_at      19066 non-null datetime64[ns]\n",
      "company_id      19066 non-null float64\n",
      "language        19066 non-null object\n",
      "activated_at    9381 non-null datetime64[ns]\n",
      "state           19066 non-null object\n",
      "dtypes: datetime64[ns](2), float64(2), object(2)\n",
      "memory usage: 893.8+ KB\n"
     ]
    }
   ],
   "source": [
    "users.info()"
   ]
  },
  {
   "cell_type": "code",
   "execution_count": null,
   "metadata": {},
   "outputs": [],
   "source": []
  },
  {
   "cell_type": "markdown",
   "metadata": {},
   "source": [
    "# Events table"
   ]
  },
  {
   "cell_type": "code",
   "execution_count": 161,
   "metadata": {},
   "outputs": [
    {
     "name": "stdout",
     "output_type": "stream",
     "text": [
      "<class 'pandas.core.frame.DataFrame'>\n",
      "RangeIndex: 340832 entries, 0 to 340831\n",
      "Data columns (total 7 columns):\n",
      "user_id        340832 non-null float64\n",
      "occurred_at    340832 non-null object\n",
      "event_type     340832 non-null object\n",
      "event_name     340832 non-null object\n",
      "location       340832 non-null object\n",
      "device         340832 non-null object\n",
      "user_type      325255 non-null float64\n",
      "dtypes: float64(2), object(5)\n",
      "memory usage: 18.2+ MB\n"
     ]
    }
   ],
   "source": [
    "events.info()"
   ]
  },
  {
   "cell_type": "code",
   "execution_count": 257,
   "metadata": {},
   "outputs": [],
   "source": [
    "# convert to datetime\n",
    "events['occurred_at'] = pd.to_datetime(events['occurred_at'], format='%Y-%m-%d %H:%M:%S')\n"
   ]
  },
  {
   "cell_type": "code",
   "execution_count": 258,
   "metadata": {},
   "outputs": [
    {
     "name": "stdout",
     "output_type": "stream",
     "text": [
      "user_id : 9760\n",
      "occurred_at : 304922\n",
      "event_type : 2\n",
      "event_name : 21\n",
      "location : 47\n",
      "device : 26\n",
      "user_type : 3\n"
     ]
    }
   ],
   "source": [
    "unique_counts(events)"
   ]
  },
  {
   "cell_type": "code",
   "execution_count": 164,
   "metadata": {},
   "outputs": [
    {
     "name": "stdout",
     "output_type": "stream",
     "text": [
      "Data shape: (340832, 7)\n",
      "___________________________\n",
      "Data types:\n",
      " object            4\n",
      "float64           2\n",
      "datetime64[ns]    1\n",
      "Name: types, dtype: int64\n",
      "___________________________\n"
     ]
    },
    {
     "data": {
      "text/html": [
       "<div>\n",
       "<style scoped>\n",
       "    .dataframe tbody tr th:only-of-type {\n",
       "        vertical-align: middle;\n",
       "    }\n",
       "\n",
       "    .dataframe tbody tr th {\n",
       "        vertical-align: top;\n",
       "    }\n",
       "\n",
       "    .dataframe thead th {\n",
       "        text-align: right;\n",
       "    }\n",
       "</style>\n",
       "<table border=\"1\" class=\"dataframe\">\n",
       "  <thead>\n",
       "    <tr style=\"text-align: right;\">\n",
       "      <th></th>\n",
       "      <th>types</th>\n",
       "      <th>counts</th>\n",
       "      <th>distincts</th>\n",
       "      <th>nulls</th>\n",
       "      <th>missing ratio</th>\n",
       "      <th>uniques</th>\n",
       "      <th>skewness</th>\n",
       "      <th>kurtosis</th>\n",
       "    </tr>\n",
       "  </thead>\n",
       "  <tbody>\n",
       "    <tr>\n",
       "      <th>user_type</th>\n",
       "      <td>float64</td>\n",
       "      <td>325255</td>\n",
       "      <td>4</td>\n",
       "      <td>15577</td>\n",
       "      <td>4.570</td>\n",
       "      <td>[[3.0, 1.0, 2.0, nan]]</td>\n",
       "      <td>1.074</td>\n",
       "      <td>-0.415</td>\n",
       "    </tr>\n",
       "    <tr>\n",
       "      <th>device</th>\n",
       "      <td>object</td>\n",
       "      <td>340832</td>\n",
       "      <td>26</td>\n",
       "      <td>0</td>\n",
       "      <td>0.000</td>\n",
       "      <td>[[dell inspiron notebook, iphone 5, iphone 4s, windows surface, macbook air, iphone 5s, macbook ...</td>\n",
       "      <td>nan</td>\n",
       "      <td>nan</td>\n",
       "    </tr>\n",
       "    <tr>\n",
       "      <th>event_name</th>\n",
       "      <td>object</td>\n",
       "      <td>340832</td>\n",
       "      <td>21</td>\n",
       "      <td>0</td>\n",
       "      <td>0.000</td>\n",
       "      <td>[[login, home_page, like_message, view_inbox, search_run, send_message, search_autocomplete, sea...</td>\n",
       "      <td>nan</td>\n",
       "      <td>nan</td>\n",
       "    </tr>\n",
       "    <tr>\n",
       "      <th>event_type</th>\n",
       "      <td>object</td>\n",
       "      <td>340832</td>\n",
       "      <td>2</td>\n",
       "      <td>0</td>\n",
       "      <td>0.000</td>\n",
       "      <td>[[engagement, signup_flow]]</td>\n",
       "      <td>nan</td>\n",
       "      <td>nan</td>\n",
       "    </tr>\n",
       "    <tr>\n",
       "      <th>location</th>\n",
       "      <td>object</td>\n",
       "      <td>340832</td>\n",
       "      <td>47</td>\n",
       "      <td>0</td>\n",
       "      <td>0.000</td>\n",
       "      <td>[[Japan, Netherlands, Austria, Finland, United Kingdom, India, United States, France, Iran, Germ...</td>\n",
       "      <td>nan</td>\n",
       "      <td>nan</td>\n",
       "    </tr>\n",
       "    <tr>\n",
       "      <th>occurred_at</th>\n",
       "      <td>datetime64[ns]</td>\n",
       "      <td>340832</td>\n",
       "      <td>304922</td>\n",
       "      <td>0</td>\n",
       "      <td>0.000</td>\n",
       "      <td>[[2014-05-02 11:02:39, 2014-05-02 11:02:53, 2014-05-02 11:03:28, 2014-05-02 11:04:09, 2014-05-02...</td>\n",
       "      <td>nan</td>\n",
       "      <td>nan</td>\n",
       "    </tr>\n",
       "    <tr>\n",
       "      <th>user_id</th>\n",
       "      <td>float64</td>\n",
       "      <td>340832</td>\n",
       "      <td>9760</td>\n",
       "      <td>0</td>\n",
       "      <td>0.000</td>\n",
       "      <td>[[10522.0, 10612.0, 10736.0, 10965.0, 11020.0, 11037.0, 11040.0, 11133.0, 11194.0, 11212.0, 1121...</td>\n",
       "      <td>-0.286</td>\n",
       "      <td>-1.135</td>\n",
       "    </tr>\n",
       "  </tbody>\n",
       "</table>\n",
       "</div>"
      ],
      "text/plain": [
       "                      types  counts  distincts  nulls  missing ratio  \\\n",
       "user_type           float64  325255          4  15577          4.570   \n",
       "device               object  340832         26      0          0.000   \n",
       "event_name           object  340832         21      0          0.000   \n",
       "event_type           object  340832          2      0          0.000   \n",
       "location             object  340832         47      0          0.000   \n",
       "occurred_at  datetime64[ns]  340832     304922      0          0.000   \n",
       "user_id             float64  340832       9760      0          0.000   \n",
       "\n",
       "                                                                                                         uniques  \\\n",
       "user_type                                                                                 [[3.0, 1.0, 2.0, nan]]   \n",
       "device       [[dell inspiron notebook, iphone 5, iphone 4s, windows surface, macbook air, iphone 5s, macbook ...   \n",
       "event_name   [[login, home_page, like_message, view_inbox, search_run, send_message, search_autocomplete, sea...   \n",
       "event_type                                                                           [[engagement, signup_flow]]   \n",
       "location     [[Japan, Netherlands, Austria, Finland, United Kingdom, India, United States, France, Iran, Germ...   \n",
       "occurred_at  [[2014-05-02 11:02:39, 2014-05-02 11:02:53, 2014-05-02 11:03:28, 2014-05-02 11:04:09, 2014-05-02...   \n",
       "user_id      [[10522.0, 10612.0, 10736.0, 10965.0, 11020.0, 11037.0, 11040.0, 11133.0, 11194.0, 11212.0, 1121...   \n",
       "\n",
       "             skewness  kurtosis  \n",
       "user_type       1.074    -0.415  \n",
       "device            nan       nan  \n",
       "event_name        nan       nan  \n",
       "event_type        nan       nan  \n",
       "location          nan       nan  \n",
       "occurred_at       nan       nan  \n",
       "user_id        -0.286    -1.135  "
      ]
     },
     "metadata": {},
     "output_type": "display_data"
    }
   ],
   "source": [
    "details = rstr(events)\n",
    "display(details.sort_values(by='missing ratio', ascending=False))"
   ]
  },
  {
   "cell_type": "code",
   "execution_count": 290,
   "metadata": {},
   "outputs": [],
   "source": [
    "engagement = events[events['event_type']=='engagement']"
   ]
  },
  {
   "cell_type": "code",
   "execution_count": 291,
   "metadata": {},
   "outputs": [
    {
     "data": {
      "text/html": [
       "<div>\n",
       "<style scoped>\n",
       "    .dataframe tbody tr th:only-of-type {\n",
       "        vertical-align: middle;\n",
       "    }\n",
       "\n",
       "    .dataframe tbody tr th {\n",
       "        vertical-align: top;\n",
       "    }\n",
       "\n",
       "    .dataframe thead th {\n",
       "        text-align: right;\n",
       "    }\n",
       "</style>\n",
       "<table border=\"1\" class=\"dataframe\">\n",
       "  <thead>\n",
       "    <tr style=\"text-align: right;\">\n",
       "      <th></th>\n",
       "      <th>user_id</th>\n",
       "      <th>occurred_at</th>\n",
       "      <th>event_type</th>\n",
       "      <th>event_name</th>\n",
       "      <th>location</th>\n",
       "      <th>device</th>\n",
       "      <th>user_type</th>\n",
       "      <th>device_type</th>\n",
       "    </tr>\n",
       "  </thead>\n",
       "  <tbody>\n",
       "    <tr>\n",
       "      <th>0</th>\n",
       "      <td>10522.000</td>\n",
       "      <td>2014-05-02 11:02:39</td>\n",
       "      <td>engagement</td>\n",
       "      <td>login</td>\n",
       "      <td>Japan</td>\n",
       "      <td>dell inspiron notebook</td>\n",
       "      <td>3.000</td>\n",
       "      <td>pc</td>\n",
       "    </tr>\n",
       "    <tr>\n",
       "      <th>1</th>\n",
       "      <td>10522.000</td>\n",
       "      <td>2014-05-02 11:02:53</td>\n",
       "      <td>engagement</td>\n",
       "      <td>home_page</td>\n",
       "      <td>Japan</td>\n",
       "      <td>dell inspiron notebook</td>\n",
       "      <td>3.000</td>\n",
       "      <td>pc</td>\n",
       "    </tr>\n",
       "    <tr>\n",
       "      <th>2</th>\n",
       "      <td>10522.000</td>\n",
       "      <td>2014-05-02 11:03:28</td>\n",
       "      <td>engagement</td>\n",
       "      <td>like_message</td>\n",
       "      <td>Japan</td>\n",
       "      <td>dell inspiron notebook</td>\n",
       "      <td>3.000</td>\n",
       "      <td>pc</td>\n",
       "    </tr>\n",
       "    <tr>\n",
       "      <th>3</th>\n",
       "      <td>10522.000</td>\n",
       "      <td>2014-05-02 11:04:09</td>\n",
       "      <td>engagement</td>\n",
       "      <td>view_inbox</td>\n",
       "      <td>Japan</td>\n",
       "      <td>dell inspiron notebook</td>\n",
       "      <td>3.000</td>\n",
       "      <td>pc</td>\n",
       "    </tr>\n",
       "    <tr>\n",
       "      <th>4</th>\n",
       "      <td>10522.000</td>\n",
       "      <td>2014-05-02 11:03:16</td>\n",
       "      <td>engagement</td>\n",
       "      <td>search_run</td>\n",
       "      <td>Japan</td>\n",
       "      <td>dell inspiron notebook</td>\n",
       "      <td>3.000</td>\n",
       "      <td>pc</td>\n",
       "    </tr>\n",
       "  </tbody>\n",
       "</table>\n",
       "</div>"
      ],
      "text/plain": [
       "    user_id         occurred_at  event_type    event_name location  \\\n",
       "0 10522.000 2014-05-02 11:02:39  engagement         login    Japan   \n",
       "1 10522.000 2014-05-02 11:02:53  engagement     home_page    Japan   \n",
       "2 10522.000 2014-05-02 11:03:28  engagement  like_message    Japan   \n",
       "3 10522.000 2014-05-02 11:04:09  engagement    view_inbox    Japan   \n",
       "4 10522.000 2014-05-02 11:03:16  engagement    search_run    Japan   \n",
       "\n",
       "                   device  user_type device_type  \n",
       "0  dell inspiron notebook      3.000          pc  \n",
       "1  dell inspiron notebook      3.000          pc  \n",
       "2  dell inspiron notebook      3.000          pc  \n",
       "3  dell inspiron notebook      3.000          pc  \n",
       "4  dell inspiron notebook      3.000          pc  "
      ]
     },
     "execution_count": 291,
     "metadata": {},
     "output_type": "execute_result"
    }
   ],
   "source": [
    "engagement.head()"
   ]
  },
  {
   "cell_type": "code",
   "execution_count": 280,
   "metadata": {},
   "outputs": [
    {
     "name": "stdout",
     "output_type": "stream",
     "text": [
      "<class 'pandas.core.frame.DataFrame'>\n",
      "RangeIndex: 340832 entries, 0 to 340831\n",
      "Data columns (total 8 columns):\n",
      "user_id        340832 non-null float64\n",
      "occurred_at    340832 non-null datetime64[ns]\n",
      "event_type     340832 non-null object\n",
      "event_name     340832 non-null object\n",
      "location       340832 non-null object\n",
      "device         340832 non-null object\n",
      "user_type      325255 non-null float64\n",
      "device_type    340832 non-null object\n",
      "dtypes: datetime64[ns](1), float64(2), object(5)\n",
      "memory usage: 20.8+ MB\n"
     ]
    }
   ],
   "source": [
    "events.info()"
   ]
  },
  {
   "cell_type": "code",
   "execution_count": 298,
   "metadata": {},
   "outputs": [],
   "source": [
    "# daily active user\n",
    "# keep only one row per user_id \n",
    "engagement_user_id = engagement.set_index('occurred_at').groupby([pd.Grouper(freq='D'), 'user_id']).first()\n",
    "daily_active_users = engagement_user_id.groupby('occurred_at')['event_type'].count()\n"
   ]
  },
  {
   "cell_type": "code",
   "execution_count": 307,
   "metadata": {},
   "outputs": [
    {
     "data": {
      "image/png": "[encoded data removed]",
      "text/plain": [
       "<Figure size 864x576 with 1 Axes>"
      ]
     },
     "metadata": {
      "needs_background": "light"
     },
     "output_type": "display_data"
    }
   ],
   "source": [
    "plt.figure(figsize=(12,8))\n",
    "plt.plot(daily_active_users,color='g')\n",
    "#plt.plot(activated_week,color='r',marker='.',label='activated')\n",
    "\n",
    "plt.xlabel('Date')\n",
    "plt.ylabel('Number of Users')\n",
    "plt.title('Daily Active Users')\n",
    "\n",
    "# create vertical lines\n",
    "plt.axvline(pd.to_datetime('2014-08-03'),color='grey', linestyle='--', label='2014-08-03')\n",
    "plt.axvline(pd.to_datetime('2014-09-01'),color='grey', linestyle='--', label='2014-09-01')\n",
    "\n",
    "plt.legend()\n",
    "plt.show()"
   ]
  },
  {
   "cell_type": "code",
   "execution_count": 302,
   "metadata": {},
   "outputs": [],
   "source": [
    "# weekly active user\n",
    "weekly_engagement = engagement.set_index('occurred_at').groupby([pd.Grouper(freq='W'), 'user_id']).first()\n",
    "weekly_active_users = weekly_engagement.groupby('occurred_at')['event_type'].count()\n"
   ]
  },
  {
   "cell_type": "code",
   "execution_count": 343,
   "metadata": {},
   "outputs": [
    {
     "data": {
      "image/png": "[encoded data removed]",
      "text/plain": [
       "<Figure size 864x576 with 1 Axes>"
      ]
     },
     "metadata": {
      "needs_background": "light"
     },
     "output_type": "display_data"
    }
   ],
   "source": [
    "plt.figure(figsize=(12,8))\n",
    "plt.plot(weekly_active_users,color='g')\n",
    "\n",
    "plt.xlabel('Date')\n",
    "plt.ylabel('Number of Users')\n",
    "plt.title('Weekly Active Users')\n",
    "\n",
    "# create vertical lines\n",
    "plt.axvline(pd.to_datetime('2014-08-03'),color='grey', linestyle='--', label='2014-08-03')\n",
    "plt.axvline(pd.to_datetime('2014-09-01'),color='grey', linestyle='--', label='2014-09-01')\n",
    "\n",
    "plt.legend()\n",
    "plt.show()"
   ]
  },
  {
   "cell_type": "code",
   "execution_count": 265,
   "metadata": {},
   "outputs": [],
   "source": [
    "# group device into pc and phone\n",
    "phone = ['iphone 5','samsung galaxy s4','nexus 5','iphone 5s','iphone 4s',\n",
    "        'amazon fire phone','htc one','nexus 10','nokia lumia 635','nexus 7',\n",
    "        'samsung galaxy note']\n",
    "pc = ['macbook pro','lenovo thinkpad','macbook air','dell inspiron notebook',\n",
    "     'dell inspiron desktop','acer aspire notebook','windows surface',\n",
    "     'hp pavilion desktop','mac mini','acer aspire desktop',]\n",
    "tablet = ['asus chromebook','ipad air','samsumg galaxy tablet','kindle fire',\n",
    "      'ipad mini']\n"
   ]
  },
  {
   "cell_type": "code",
   "execution_count": 270,
   "metadata": {},
   "outputs": [],
   "source": [
    "def convert_device(val):\n",
    "    if val in phone:\n",
    "        return 'phone'\n",
    "    elif val in pc:\n",
    "        return 'pc'\n",
    "    else:\n",
    "        return 'tablet'"
   ]
  },
  {
   "cell_type": "code",
   "execution_count": 271,
   "metadata": {},
   "outputs": [
    {
     "name": "stdout",
     "output_type": "stream",
     "text": [
      "Unique Values in the Column: ['pc' 'phone' 'tablet']\n"
     ]
    }
   ],
   "source": [
    "events['device_type'] = events['device'].apply(convert_device)\n",
    "print('Unique Values in the Column:', np.unique(events['device_type']))\n"
   ]
  },
  {
   "cell_type": "code",
   "execution_count": 272,
   "metadata": {},
   "outputs": [
    {
     "data": {
      "text/plain": [
       "pc        190125\n",
       "phone     118604\n",
       "tablet     32103\n",
       "Name: device_type, dtype: int64"
      ]
     },
     "execution_count": 272,
     "metadata": {},
     "output_type": "execute_result"
    }
   ],
   "source": [
    "events.device_type.value_counts()"
   ]
  },
  {
   "cell_type": "code",
   "execution_count": 337,
   "metadata": {},
   "outputs": [],
   "source": [
    "weekly_device_engagement = weekly_engagement.groupby(['device_type','occurred_at'])['event_type'].count().reset_index()\n",
    "weekly_device_engagement.set_index('occurred_at', inplace=True)"
   ]
  },
  {
   "cell_type": "code",
   "execution_count": 345,
   "metadata": {},
   "outputs": [
    {
     "data": {
      "image/png": "[encoded data removed]",
      "text/plain": [
       "<Figure size 864x576 with 1 Axes>"
      ]
     },
     "metadata": {
      "needs_background": "light"
     },
     "output_type": "display_data"
    }
   ],
   "source": [
    "# plot weekly engagement by device type\n",
    "plt.figure(figsize=(12,8))\n",
    "weekly_device_engagement.groupby('device_type')['event_type'].plot(legend=True)\n",
    "plt.xlabel('Date')\n",
    "plt.ylabel('Number of Users')\n",
    "plt.title('Weekly Active Users by Device Type ')\n",
    "\n",
    "# create vertical lines\n",
    "plt.axvline(pd.to_datetime('2014-08-03'),color='grey', linestyle='--', label='2014-08-03')\n",
    "plt.axvline(pd.to_datetime('2014-09-01'),color='grey', linestyle='--', label='2014-09-01')\n",
    "plt.show()"
   ]
  },
  {
   "cell_type": "markdown",
   "metadata": {},
   "source": [
    "The engagement for phone users has a significant drop. Is the Yammer product not user-friendly in app version?"
   ]
  },
  {
   "cell_type": "code",
   "execution_count": null,
   "metadata": {},
   "outputs": [],
   "source": [
    "# check event name, what activieties users are less engaged? \n",
    "\n",
    "\n"
   ]
  },
  {
   "cell_type": "markdown",
   "metadata": {},
   "source": [
    "# Emails data"
   ]
  },
  {
   "cell_type": "code",
   "execution_count": 387,
   "metadata": {},
   "outputs": [
    {
     "data": {
      "text/html": [
       "<div>\n",
       "<style scoped>\n",
       "    .dataframe tbody tr th:only-of-type {\n",
       "        vertical-align: middle;\n",
       "    }\n",
       "\n",
       "    .dataframe tbody tr th {\n",
       "        vertical-align: top;\n",
       "    }\n",
       "\n",
       "    .dataframe thead th {\n",
       "        text-align: right;\n",
       "    }\n",
       "</style>\n",
       "<table border=\"1\" class=\"dataframe\">\n",
       "  <thead>\n",
       "    <tr style=\"text-align: right;\">\n",
       "      <th></th>\n",
       "      <th>user_id</th>\n",
       "      <th>occurred_at</th>\n",
       "      <th>action</th>\n",
       "      <th>user_type</th>\n",
       "    </tr>\n",
       "  </thead>\n",
       "  <tbody>\n",
       "    <tr>\n",
       "      <th>90384</th>\n",
       "      <td>18814.000</td>\n",
       "      <td>2014-08-31 12:12:26</td>\n",
       "      <td>email_open</td>\n",
       "      <td>3.000</td>\n",
       "    </tr>\n",
       "    <tr>\n",
       "      <th>90385</th>\n",
       "      <td>18814.000</td>\n",
       "      <td>2014-08-31 12:12:57</td>\n",
       "      <td>email_clickthrough</td>\n",
       "      <td>3.000</td>\n",
       "    </tr>\n",
       "    <tr>\n",
       "      <th>90386</th>\n",
       "      <td>18815.000</td>\n",
       "      <td>2014-08-31 13:39:56</td>\n",
       "      <td>sent_reengagement_email</td>\n",
       "      <td>2.000</td>\n",
       "    </tr>\n",
       "    <tr>\n",
       "      <th>90387</th>\n",
       "      <td>18815.000</td>\n",
       "      <td>2014-08-31 13:40:14</td>\n",
       "      <td>email_open</td>\n",
       "      <td>2.000</td>\n",
       "    </tr>\n",
       "    <tr>\n",
       "      <th>90388</th>\n",
       "      <td>18815.000</td>\n",
       "      <td>2014-08-31 13:40:47</td>\n",
       "      <td>email_clickthrough</td>\n",
       "      <td>2.000</td>\n",
       "    </tr>\n",
       "  </tbody>\n",
       "</table>\n",
       "</div>"
      ],
      "text/plain": [
       "        user_id         occurred_at                   action  user_type\n",
       "90384 18814.000 2014-08-31 12:12:26               email_open      3.000\n",
       "90385 18814.000 2014-08-31 12:12:57       email_clickthrough      3.000\n",
       "90386 18815.000 2014-08-31 13:39:56  sent_reengagement_email      2.000\n",
       "90387 18815.000 2014-08-31 13:40:14               email_open      2.000\n",
       "90388 18815.000 2014-08-31 13:40:47       email_clickthrough      2.000"
      ]
     },
     "execution_count": 387,
     "metadata": {},
     "output_type": "execute_result"
    }
   ],
   "source": [
    "# convert to datetime\n",
    "emails['occurred_at'] = pd.to_datetime(emails['occurred_at'], format='%Y-%m-%d %H:%M:%S')\n",
    "emails.tail()"
   ]
  },
  {
   "cell_type": "code",
   "execution_count": 351,
   "metadata": {},
   "outputs": [
    {
     "name": "stdout",
     "output_type": "stream",
     "text": [
      "user_id : 6179\n",
      "occurred_at : 123\n",
      "action : 4\n",
      "user_type : 3\n"
     ]
    }
   ],
   "source": [
    "unique_counts(emails)"
   ]
  },
  {
   "cell_type": "code",
   "execution_count": 352,
   "metadata": {},
   "outputs": [
    {
     "name": "stdout",
     "output_type": "stream",
     "text": [
      "Data shape: (90389, 4)\n",
      "___________________________\n",
      "Data types:\n",
      " object     2\n",
      "float64    2\n",
      "Name: types, dtype: int64\n",
      "___________________________\n"
     ]
    },
    {
     "data": {
      "text/html": [
       "<div>\n",
       "<style scoped>\n",
       "    .dataframe tbody tr th:only-of-type {\n",
       "        vertical-align: middle;\n",
       "    }\n",
       "\n",
       "    .dataframe tbody tr th {\n",
       "        vertical-align: top;\n",
       "    }\n",
       "\n",
       "    .dataframe thead th {\n",
       "        text-align: right;\n",
       "    }\n",
       "</style>\n",
       "<table border=\"1\" class=\"dataframe\">\n",
       "  <thead>\n",
       "    <tr style=\"text-align: right;\">\n",
       "      <th></th>\n",
       "      <th>types</th>\n",
       "      <th>counts</th>\n",
       "      <th>distincts</th>\n",
       "      <th>nulls</th>\n",
       "      <th>missing ratio</th>\n",
       "      <th>uniques</th>\n",
       "      <th>skewness</th>\n",
       "      <th>kurtosis</th>\n",
       "    </tr>\n",
       "  </thead>\n",
       "  <tbody>\n",
       "    <tr>\n",
       "      <th>action</th>\n",
       "      <td>object</td>\n",
       "      <td>90389</td>\n",
       "      <td>4</td>\n",
       "      <td>0</td>\n",
       "      <td>0.000</td>\n",
       "      <td>[[sent_weekly_digest, email_open, email_clickthrough, sent_reengagement_email]]</td>\n",
       "      <td>nan</td>\n",
       "      <td>nan</td>\n",
       "    </tr>\n",
       "    <tr>\n",
       "      <th>occurred_at</th>\n",
       "      <td>object</td>\n",
       "      <td>90389</td>\n",
       "      <td>123</td>\n",
       "      <td>0</td>\n",
       "      <td>0.000</td>\n",
       "      <td>[[2014-05-06, 2014-05-13, 2014-05-20, 2014-05-27, 2014-06-03, 2014-06-10, 2014-06-17, 2014-06-24...</td>\n",
       "      <td>nan</td>\n",
       "      <td>nan</td>\n",
       "    </tr>\n",
       "    <tr>\n",
       "      <th>user_id</th>\n",
       "      <td>float64</td>\n",
       "      <td>90389</td>\n",
       "      <td>6179</td>\n",
       "      <td>0</td>\n",
       "      <td>0.000</td>\n",
       "      <td>[[0.0, 4.0, 8.0, 11.0, 17.0, 19.0, 20.0, 22.0, 30.0, 49.0, 59.0, 64.0, 66.0, 67.0, 78.0, 80.0, 8...</td>\n",
       "      <td>0.050</td>\n",
       "      <td>-1.043</td>\n",
       "    </tr>\n",
       "    <tr>\n",
       "      <th>user_type</th>\n",
       "      <td>float64</td>\n",
       "      <td>90389</td>\n",
       "      <td>3</td>\n",
       "      <td>0</td>\n",
       "      <td>0.000</td>\n",
       "      <td>[[1.0, 3.0, 2.0]]</td>\n",
       "      <td>-0.188</td>\n",
       "      <td>-1.587</td>\n",
       "    </tr>\n",
       "  </tbody>\n",
       "</table>\n",
       "</div>"
      ],
      "text/plain": [
       "               types  counts  distincts  nulls  missing ratio  \\\n",
       "action        object   90389          4      0          0.000   \n",
       "occurred_at   object   90389        123      0          0.000   \n",
       "user_id      float64   90389       6179      0          0.000   \n",
       "user_type    float64   90389          3      0          0.000   \n",
       "\n",
       "                                                                                                         uniques  \\\n",
       "action                           [[sent_weekly_digest, email_open, email_clickthrough, sent_reengagement_email]]   \n",
       "occurred_at  [[2014-05-06, 2014-05-13, 2014-05-20, 2014-05-27, 2014-06-03, 2014-06-10, 2014-06-17, 2014-06-24...   \n",
       "user_id      [[0.0, 4.0, 8.0, 11.0, 17.0, 19.0, 20.0, 22.0, 30.0, 49.0, 59.0, 64.0, 66.0, 67.0, 78.0, 80.0, 8...   \n",
       "user_type                                                                                      [[1.0, 3.0, 2.0]]   \n",
       "\n",
       "             skewness  kurtosis  \n",
       "action            nan       nan  \n",
       "occurred_at       nan       nan  \n",
       "user_id         0.050    -1.043  \n",
       "user_type      -0.188    -1.587  "
      ]
     },
     "metadata": {},
     "output_type": "display_data"
    }
   ],
   "source": [
    "details = rstr(emails)\n",
    "display(details.sort_values(by='missing ratio', ascending=False))"
   ]
  },
  {
   "cell_type": "markdown",
   "metadata": {},
   "source": [
    "- \"sent_weekly_digest\" means that the user was delivered a digest email showing relevant conversations from the previous day. \n",
    "- \"email_open\" means that the user opened the email.\n",
    "- \"email_clickthrough\" means that the user clicked a link in the email\n",
    "- 'sent_reengagement_email'"
   ]
  },
  {
   "cell_type": "code",
   "execution_count": 389,
   "metadata": {},
   "outputs": [],
   "source": [
    "# weekly emails\n",
    "\n",
    "weekly_emails = emails.set_index('occurred_at').groupby(['action',pd.Grouper(freq='W')])['user_id'].count().reset_index()\n",
    "weekly_emails.set_index('occurred_at', inplace=True)\n"
   ]
  },
  {
   "cell_type": "code",
   "execution_count": 390,
   "metadata": {},
   "outputs": [
    {
     "data": {
      "text/html": [
       "<div>\n",
       "<style scoped>\n",
       "    .dataframe tbody tr th:only-of-type {\n",
       "        vertical-align: middle;\n",
       "    }\n",
       "\n",
       "    .dataframe tbody tr th {\n",
       "        vertical-align: top;\n",
       "    }\n",
       "\n",
       "    .dataframe thead th {\n",
       "        text-align: right;\n",
       "    }\n",
       "</style>\n",
       "<table border=\"1\" class=\"dataframe\">\n",
       "  <thead>\n",
       "    <tr style=\"text-align: right;\">\n",
       "      <th></th>\n",
       "      <th>action</th>\n",
       "      <th>user_id</th>\n",
       "    </tr>\n",
       "    <tr>\n",
       "      <th>occurred_at</th>\n",
       "      <th></th>\n",
       "      <th></th>\n",
       "    </tr>\n",
       "  </thead>\n",
       "  <tbody>\n",
       "    <tr>\n",
       "      <th>2014-05-04</th>\n",
       "      <td>email_clickthrough</td>\n",
       "      <td>187</td>\n",
       "    </tr>\n",
       "    <tr>\n",
       "      <th>2014-05-11</th>\n",
       "      <td>email_clickthrough</td>\n",
       "      <td>434</td>\n",
       "    </tr>\n",
       "    <tr>\n",
       "      <th>2014-05-18</th>\n",
       "      <td>email_clickthrough</td>\n",
       "      <td>479</td>\n",
       "    </tr>\n",
       "    <tr>\n",
       "      <th>2014-05-25</th>\n",
       "      <td>email_clickthrough</td>\n",
       "      <td>498</td>\n",
       "    </tr>\n",
       "    <tr>\n",
       "      <th>2014-06-01</th>\n",
       "      <td>email_clickthrough</td>\n",
       "      <td>453</td>\n",
       "    </tr>\n",
       "  </tbody>\n",
       "</table>\n",
       "</div>"
      ],
      "text/plain": [
       "                         action  user_id\n",
       "occurred_at                             \n",
       "2014-05-04   email_clickthrough      187\n",
       "2014-05-11   email_clickthrough      434\n",
       "2014-05-18   email_clickthrough      479\n",
       "2014-05-25   email_clickthrough      498\n",
       "2014-06-01   email_clickthrough      453"
      ]
     },
     "execution_count": 390,
     "metadata": {},
     "output_type": "execute_result"
    }
   ],
   "source": [
    "weekly_emails.head()"
   ]
  },
  {
   "cell_type": "code",
   "execution_count": 392,
   "metadata": {},
   "outputs": [
    {
     "data": {
      "image/png": "[encoded data removed]",
      "text/plain": [
       "<Figure size 864x576 with 1 Axes>"
      ]
     },
     "metadata": {
      "needs_background": "light"
     },
     "output_type": "display_data"
    }
   ],
   "source": [
    "# plot weekly email events by actions\n",
    "plt.figure(figsize=(12,8))\n",
    "weekly_emails.groupby('action')['user_id'].plot(legend=True)\n",
    "plt.xlabel('Date')\n",
    "plt.ylabel('Total email actions')\n",
    "plt.title('Weekly Email Events by Email Actions')\n",
    "\n",
    "# create vertical lines\n",
    "plt.axvline(pd.to_datetime('2014-08-03'),color='grey', linestyle='--', label='2014-08-03')\n",
    "plt.axvline(pd.to_datetime('2014-09-01'),color='grey', linestyle='--', label='2014-09-01')\n",
    "plt.show()"
   ]
  },
  {
   "cell_type": "markdown",
   "metadata": {},
   "source": [
    "We can see that email_clickthrough has a significant drop. It means that users has decreased interest in clicking links in the email. One linkage is that users that use phones may be less interested in clicking links. Could there be any product optimization in this feature?"
   ]
  },
  {
   "cell_type": "markdown",
   "metadata": {},
   "source": [
    "# Cohort Analysis on Activated Users\n",
    "\n",
    "- time cohorts, group customers based on when they started using the product\n",
    "- behavior cohorts\n",
    "- size cohorts: based on product use/amount spending"
   ]
  },
  {
   "cell_type": "code",
   "execution_count": 531,
   "metadata": {},
   "outputs": [
    {
     "data": {
      "text/html": [
       "<div>\n",
       "<style scoped>\n",
       "    .dataframe tbody tr th:only-of-type {\n",
       "        vertical-align: middle;\n",
       "    }\n",
       "\n",
       "    .dataframe tbody tr th {\n",
       "        vertical-align: top;\n",
       "    }\n",
       "\n",
       "    .dataframe thead th {\n",
       "        text-align: right;\n",
       "    }\n",
       "</style>\n",
       "<table border=\"1\" class=\"dataframe\">\n",
       "  <thead>\n",
       "    <tr style=\"text-align: right;\">\n",
       "      <th></th>\n",
       "      <th>user_id</th>\n",
       "      <th>created_at</th>\n",
       "      <th>company_id</th>\n",
       "      <th>language</th>\n",
       "      <th>activated_at</th>\n",
       "      <th>state</th>\n",
       "      <th>occurred_at</th>\n",
       "      <th>event_type</th>\n",
       "      <th>event_name</th>\n",
       "      <th>location</th>\n",
       "      <th>device</th>\n",
       "      <th>user_type</th>\n",
       "    </tr>\n",
       "  </thead>\n",
       "  <tbody>\n",
       "    <tr>\n",
       "      <th>0</th>\n",
       "      <td>4.000</td>\n",
       "      <td>2013-01-01 14:37:51</td>\n",
       "      <td>5110.000</td>\n",
       "      <td>indian</td>\n",
       "      <td>2013-01-01 14:39:05</td>\n",
       "      <td>active</td>\n",
       "      <td>2014-05-13 09:31:47</td>\n",
       "      <td>engagement</td>\n",
       "      <td>login</td>\n",
       "      <td>India</td>\n",
       "      <td>lenovo thinkpad</td>\n",
       "      <td>3.000</td>\n",
       "    </tr>\n",
       "    <tr>\n",
       "      <th>1</th>\n",
       "      <td>4.000</td>\n",
       "      <td>2013-01-01 14:37:51</td>\n",
       "      <td>5110.000</td>\n",
       "      <td>indian</td>\n",
       "      <td>2013-01-01 14:39:05</td>\n",
       "      <td>active</td>\n",
       "      <td>2014-05-13 09:32:10</td>\n",
       "      <td>engagement</td>\n",
       "      <td>home_page</td>\n",
       "      <td>India</td>\n",
       "      <td>lenovo thinkpad</td>\n",
       "      <td>3.000</td>\n",
       "    </tr>\n",
       "    <tr>\n",
       "      <th>2</th>\n",
       "      <td>4.000</td>\n",
       "      <td>2013-01-01 14:37:51</td>\n",
       "      <td>5110.000</td>\n",
       "      <td>indian</td>\n",
       "      <td>2013-01-01 14:39:05</td>\n",
       "      <td>active</td>\n",
       "      <td>2014-05-13 09:32:26</td>\n",
       "      <td>engagement</td>\n",
       "      <td>search_autocomplete</td>\n",
       "      <td>India</td>\n",
       "      <td>lenovo thinkpad</td>\n",
       "      <td>3.000</td>\n",
       "    </tr>\n",
       "    <tr>\n",
       "      <th>3</th>\n",
       "      <td>4.000</td>\n",
       "      <td>2013-01-01 14:37:51</td>\n",
       "      <td>5110.000</td>\n",
       "      <td>indian</td>\n",
       "      <td>2013-01-01 14:39:05</td>\n",
       "      <td>active</td>\n",
       "      <td>2014-05-13 09:32:58</td>\n",
       "      <td>engagement</td>\n",
       "      <td>search_autocomplete</td>\n",
       "      <td>India</td>\n",
       "      <td>lenovo thinkpad</td>\n",
       "      <td>3.000</td>\n",
       "    </tr>\n",
       "    <tr>\n",
       "      <th>4</th>\n",
       "      <td>4.000</td>\n",
       "      <td>2013-01-01 14:37:51</td>\n",
       "      <td>5110.000</td>\n",
       "      <td>indian</td>\n",
       "      <td>2013-01-01 14:39:05</td>\n",
       "      <td>active</td>\n",
       "      <td>2014-05-24 11:39:53</td>\n",
       "      <td>engagement</td>\n",
       "      <td>login</td>\n",
       "      <td>India</td>\n",
       "      <td>samsung galaxy s4</td>\n",
       "      <td>3.000</td>\n",
       "    </tr>\n",
       "  </tbody>\n",
       "</table>\n",
       "</div>"
      ],
      "text/plain": [
       "   user_id           created_at  company_id language         activated_at  \\\n",
       "0    4.000  2013-01-01 14:37:51    5110.000   indian  2013-01-01 14:39:05   \n",
       "1    4.000  2013-01-01 14:37:51    5110.000   indian  2013-01-01 14:39:05   \n",
       "2    4.000  2013-01-01 14:37:51    5110.000   indian  2013-01-01 14:39:05   \n",
       "3    4.000  2013-01-01 14:37:51    5110.000   indian  2013-01-01 14:39:05   \n",
       "4    4.000  2013-01-01 14:37:51    5110.000   indian  2013-01-01 14:39:05   \n",
       "\n",
       "    state          occurred_at  event_type           event_name location  \\\n",
       "0  active  2014-05-13 09:31:47  engagement                login    India   \n",
       "1  active  2014-05-13 09:32:10  engagement            home_page    India   \n",
       "2  active  2014-05-13 09:32:26  engagement  search_autocomplete    India   \n",
       "3  active  2014-05-13 09:32:58  engagement  search_autocomplete    India   \n",
       "4  active  2014-05-24 11:39:53  engagement                login    India   \n",
       "\n",
       "              device  user_type  \n",
       "0    lenovo thinkpad      3.000  \n",
       "1    lenovo thinkpad      3.000  \n",
       "2    lenovo thinkpad      3.000  \n",
       "3    lenovo thinkpad      3.000  \n",
       "4  samsung galaxy s4      3.000  "
      ]
     },
     "execution_count": 531,
     "metadata": {},
     "output_type": "execute_result"
    }
   ],
   "source": [
    "# merge users, events\n",
    "df = pd.merge(users, events, how='inner', on='user_id')\n",
    "df.head()"
   ]
  },
  {
   "cell_type": "code",
   "execution_count": 407,
   "metadata": {},
   "outputs": [
    {
     "name": "stdout",
     "output_type": "stream",
     "text": [
      "user_id : 9760\n",
      "created_at : 9754\n",
      "company_id : 6950\n",
      "language : 12\n",
      "activated_at : 6140\n",
      "state : 2\n",
      "occurred_at : 304922\n",
      "event_type : 2\n",
      "event_name : 21\n",
      "location : 47\n",
      "device : 26\n",
      "user_type : 3\n"
     ]
    }
   ],
   "source": [
    "unique_counts(df)"
   ]
  },
  {
   "cell_type": "code",
   "execution_count": 532,
   "metadata": {},
   "outputs": [],
   "source": [
    "# keep only active users and has engagement\n",
    "df = df[(df['state']=='active') & (df['event_type']=='engagement')]"
   ]
  },
  {
   "cell_type": "code",
   "execution_count": 423,
   "metadata": {},
   "outputs": [
    {
     "name": "stdout",
     "output_type": "stream",
     "text": [
      "Data shape: (321575, 12)\n",
      "___________________________\n",
      "Data types:\n",
      " object     9\n",
      "float64    3\n",
      "Name: types, dtype: int64\n",
      "___________________________\n"
     ]
    },
    {
     "data": {
      "text/html": [
       "<div>\n",
       "<style scoped>\n",
       "    .dataframe tbody tr th:only-of-type {\n",
       "        vertical-align: middle;\n",
       "    }\n",
       "\n",
       "    .dataframe tbody tr th {\n",
       "        vertical-align: top;\n",
       "    }\n",
       "\n",
       "    .dataframe thead th {\n",
       "        text-align: right;\n",
       "    }\n",
       "</style>\n",
       "<table border=\"1\" class=\"dataframe\">\n",
       "  <thead>\n",
       "    <tr style=\"text-align: right;\">\n",
       "      <th></th>\n",
       "      <th>types</th>\n",
       "      <th>counts</th>\n",
       "      <th>distincts</th>\n",
       "      <th>nulls</th>\n",
       "      <th>missing ratio</th>\n",
       "      <th>uniques</th>\n",
       "      <th>skewness</th>\n",
       "      <th>kurtosis</th>\n",
       "    </tr>\n",
       "  </thead>\n",
       "  <tbody>\n",
       "    <tr>\n",
       "      <th>activated_at</th>\n",
       "      <td>object</td>\n",
       "      <td>321575</td>\n",
       "      <td>6140</td>\n",
       "      <td>0</td>\n",
       "      <td>0.000</td>\n",
       "      <td>[[2013-01-01 14:39:05, 2013-01-01 04:40:10, 2013-01-01 08:09:17, 2013-01-02 10:57:58, 2013-01-02...</td>\n",
       "      <td>nan</td>\n",
       "      <td>nan</td>\n",
       "    </tr>\n",
       "    <tr>\n",
       "      <th>company_id</th>\n",
       "      <td>float64</td>\n",
       "      <td>321575</td>\n",
       "      <td>4453</td>\n",
       "      <td>0</td>\n",
       "      <td>0.000</td>\n",
       "      <td>[[5110.0, 2698.0, 3745.0, 5025.0, 326.0, 7.0, 545.0, 4148.0, 8727.0, 2296.0, 9229.0, 7927.0, 1.0...</td>\n",
       "      <td>0.513</td>\n",
       "      <td>-1.161</td>\n",
       "    </tr>\n",
       "    <tr>\n",
       "      <th>created_at</th>\n",
       "      <td>object</td>\n",
       "      <td>321575</td>\n",
       "      <td>6138</td>\n",
       "      <td>0</td>\n",
       "      <td>0.000</td>\n",
       "      <td>[[2013-01-01 14:37:51, 2013-01-01 04:38:30, 2013-01-01 08:07:45, 2013-01-02 10:56:15, 2013-01-02...</td>\n",
       "      <td>nan</td>\n",
       "      <td>nan</td>\n",
       "    </tr>\n",
       "    <tr>\n",
       "      <th>device</th>\n",
       "      <td>object</td>\n",
       "      <td>321575</td>\n",
       "      <td>26</td>\n",
       "      <td>0</td>\n",
       "      <td>0.000</td>\n",
       "      <td>[[lenovo thinkpad, samsung galaxy s4, dell inspiron desktop, nexus 7, macbook pro, iphone 5s, ip...</td>\n",
       "      <td>nan</td>\n",
       "      <td>nan</td>\n",
       "    </tr>\n",
       "    <tr>\n",
       "      <th>event_name</th>\n",
       "      <td>object</td>\n",
       "      <td>321575</td>\n",
       "      <td>17</td>\n",
       "      <td>0</td>\n",
       "      <td>0.000</td>\n",
       "      <td>[[login, home_page, search_autocomplete, like_message, view_inbox, search_run, search_click_resu...</td>\n",
       "      <td>nan</td>\n",
       "      <td>nan</td>\n",
       "    </tr>\n",
       "    <tr>\n",
       "      <th>event_type</th>\n",
       "      <td>object</td>\n",
       "      <td>321575</td>\n",
       "      <td>1</td>\n",
       "      <td>0</td>\n",
       "      <td>0.000</td>\n",
       "      <td>[[engagement]]</td>\n",
       "      <td>nan</td>\n",
       "      <td>nan</td>\n",
       "    </tr>\n",
       "    <tr>\n",
       "      <th>language</th>\n",
       "      <td>object</td>\n",
       "      <td>321575</td>\n",
       "      <td>12</td>\n",
       "      <td>0</td>\n",
       "      <td>0.000</td>\n",
       "      <td>[[indian, french, english, japanese, italian, german, spanish, chinese, portugese, russian, arab...</td>\n",
       "      <td>nan</td>\n",
       "      <td>nan</td>\n",
       "    </tr>\n",
       "    <tr>\n",
       "      <th>location</th>\n",
       "      <td>object</td>\n",
       "      <td>321575</td>\n",
       "      <td>47</td>\n",
       "      <td>0</td>\n",
       "      <td>0.000</td>\n",
       "      <td>[[India, France, United States, Japan, Nigeria, Italy, Germany, Australia, Taiwan, Turkey, Unite...</td>\n",
       "      <td>nan</td>\n",
       "      <td>nan</td>\n",
       "    </tr>\n",
       "    <tr>\n",
       "      <th>occurred_at</th>\n",
       "      <td>object</td>\n",
       "      <td>321575</td>\n",
       "      <td>290112</td>\n",
       "      <td>0</td>\n",
       "      <td>0.000</td>\n",
       "      <td>[[2014-05-13 09:31:47, 2014-05-13 09:32:10, 2014-05-13 09:32:26, 2014-05-13 09:32:58, 2014-05-24...</td>\n",
       "      <td>nan</td>\n",
       "      <td>nan</td>\n",
       "    </tr>\n",
       "    <tr>\n",
       "      <th>state</th>\n",
       "      <td>object</td>\n",
       "      <td>321575</td>\n",
       "      <td>1</td>\n",
       "      <td>0</td>\n",
       "      <td>0.000</td>\n",
       "      <td>[[active]]</td>\n",
       "      <td>nan</td>\n",
       "      <td>nan</td>\n",
       "    </tr>\n",
       "    <tr>\n",
       "      <th>user_id</th>\n",
       "      <td>float64</td>\n",
       "      <td>321575</td>\n",
       "      <td>6142</td>\n",
       "      <td>0</td>\n",
       "      <td>0.000</td>\n",
       "      <td>[[4.0, 8.0, 11.0, 17.0, 19.0, 20.0, 22.0, 30.0, 49.0, 59.0, 64.0, 66.0, 78.0, 80.0, 83.0, 86.0, ...</td>\n",
       "      <td>-0.219</td>\n",
       "      <td>-1.167</td>\n",
       "    </tr>\n",
       "    <tr>\n",
       "      <th>user_type</th>\n",
       "      <td>float64</td>\n",
       "      <td>321575</td>\n",
       "      <td>3</td>\n",
       "      <td>0</td>\n",
       "      <td>0.000</td>\n",
       "      <td>[[3.0, 1.0, 2.0]]</td>\n",
       "      <td>1.097</td>\n",
       "      <td>-0.358</td>\n",
       "    </tr>\n",
       "  </tbody>\n",
       "</table>\n",
       "</div>"
      ],
      "text/plain": [
       "                types  counts  distincts  nulls  missing ratio  \\\n",
       "activated_at   object  321575       6140      0          0.000   \n",
       "company_id    float64  321575       4453      0          0.000   \n",
       "created_at     object  321575       6138      0          0.000   \n",
       "device         object  321575         26      0          0.000   \n",
       "event_name     object  321575         17      0          0.000   \n",
       "event_type     object  321575          1      0          0.000   \n",
       "language       object  321575         12      0          0.000   \n",
       "location       object  321575         47      0          0.000   \n",
       "occurred_at    object  321575     290112      0          0.000   \n",
       "state          object  321575          1      0          0.000   \n",
       "user_id       float64  321575       6142      0          0.000   \n",
       "user_type     float64  321575          3      0          0.000   \n",
       "\n",
       "                                                                                                          uniques  \\\n",
       "activated_at  [[2013-01-01 14:39:05, 2013-01-01 04:40:10, 2013-01-01 08:09:17, 2013-01-02 10:57:58, 2013-01-02...   \n",
       "company_id    [[5110.0, 2698.0, 3745.0, 5025.0, 326.0, 7.0, 545.0, 4148.0, 8727.0, 2296.0, 9229.0, 7927.0, 1.0...   \n",
       "created_at    [[2013-01-01 14:37:51, 2013-01-01 04:38:30, 2013-01-01 08:07:45, 2013-01-02 10:56:15, 2013-01-02...   \n",
       "device        [[lenovo thinkpad, samsung galaxy s4, dell inspiron desktop, nexus 7, macbook pro, iphone 5s, ip...   \n",
       "event_name    [[login, home_page, search_autocomplete, like_message, view_inbox, search_run, search_click_resu...   \n",
       "event_type                                                                                         [[engagement]]   \n",
       "language      [[indian, french, english, japanese, italian, german, spanish, chinese, portugese, russian, arab...   \n",
       "location      [[India, France, United States, Japan, Nigeria, Italy, Germany, Australia, Taiwan, Turkey, Unite...   \n",
       "occurred_at   [[2014-05-13 09:31:47, 2014-05-13 09:32:10, 2014-05-13 09:32:26, 2014-05-13 09:32:58, 2014-05-24...   \n",
       "state                                                                                                  [[active]]   \n",
       "user_id       [[4.0, 8.0, 11.0, 17.0, 19.0, 20.0, 22.0, 30.0, 49.0, 59.0, 64.0, 66.0, 78.0, 80.0, 83.0, 86.0, ...   \n",
       "user_type                                                                                       [[3.0, 1.0, 2.0]]   \n",
       "\n",
       "              skewness  kurtosis  \n",
       "activated_at       nan       nan  \n",
       "company_id       0.513    -1.161  \n",
       "created_at         nan       nan  \n",
       "device             nan       nan  \n",
       "event_name         nan       nan  \n",
       "event_type         nan       nan  \n",
       "language           nan       nan  \n",
       "location           nan       nan  \n",
       "occurred_at        nan       nan  \n",
       "state              nan       nan  \n",
       "user_id         -0.219    -1.167  \n",
       "user_type        1.097    -0.358  "
      ]
     },
     "metadata": {},
     "output_type": "display_data"
    }
   ],
   "source": [
    "details = rstr(df)\n",
    "display(details.sort_values(by='missing ratio', ascending=False))"
   ]
  },
  {
   "cell_type": "code",
   "execution_count": 504,
   "metadata": {},
   "outputs": [
    {
     "name": "stdout",
     "output_type": "stream",
     "text": [
      "min account creation date:  2013-01-01 04:38:30\n",
      "max account creation date:  2014-08-31 20:21:14\n",
      "min activated date:  2013-01-01 04:40:10\n",
      "max activated date:  2014-08-31 20:22:54\n",
      "min product usage date:  2014-05-01 02:27:15\n",
      "max product usage date:  2014-08-31 23:03:39\n"
     ]
    }
   ],
   "source": [
    "# understand date columns\n",
    "print('min account creation date: ', df.created_at.min())\n",
    "print('max account creation date: ', df.created_at.max())\n",
    "print('min activated date: ', df.activated_at.min())\n",
    "print('max activated date: ', df.activated_at.max())\n",
    "print('min product usage date: ', df.occurred_at.min())\n",
    "print('max product usage date: ', df.occurred_at.max())\n"
   ]
  },
  {
   "cell_type": "markdown",
   "metadata": {},
   "source": [
    "We only has 3 months of product use data, but we have over 1.5 years of users data"
   ]
  },
  {
   "cell_type": "code",
   "execution_count": 533,
   "metadata": {},
   "outputs": [],
   "source": [
    "# trucate datetime to the first day of the week\n",
    "def get_month(x):\n",
    "    import datetime as dt\n",
    "    return dt.datetime(x.year, x.month, 1)"
   ]
  },
  {
   "cell_type": "code",
   "execution_count": 548,
   "metadata": {},
   "outputs": [],
   "source": [
    "# create a month of account created column\n",
    "df['OccurredMonth'] = pd.to_datetime(df['occurred_at'], format='%Y-%m-%d %H:%M:%S').apply(get_month)\n"
   ]
  },
  {
   "cell_type": "code",
   "execution_count": 549,
   "metadata": {},
   "outputs": [],
   "source": [
    "grouping = df.groupby('user_id')['OccurredMonth']"
   ]
  },
  {
   "cell_type": "code",
   "execution_count": 550,
   "metadata": {},
   "outputs": [],
   "source": [
    "# assign acquisition month to each customer\n",
    "df['CohortMonth'] = grouping.transform('min')"
   ]
  },
  {
   "cell_type": "code",
   "execution_count": 537,
   "metadata": {},
   "outputs": [],
   "source": [
    "# function to extract year, month, and day\n",
    "def get_date_int(df,column):\n",
    "    year = df[column].dt.year\n",
    "    month = df[column].dt.month\n",
    "    day = df[column].dt.day\n",
    "    return year, month, day\n",
    "    "
   ]
  },
  {
   "cell_type": "code",
   "execution_count": 551,
   "metadata": {},
   "outputs": [],
   "source": [
    "event_year, event_month, _ = get_date_int(df, 'OccurredMonth')\n",
    "cohort_year, cohort_month, _ = get_date_int(df, 'CohortMonth')"
   ]
  },
  {
   "cell_type": "code",
   "execution_count": 552,
   "metadata": {},
   "outputs": [],
   "source": [
    "# calcualte year and month differnce between them\n",
    "years_diff = event_year - cohort_year\n",
    "months_diff = event_month - cohort_month"
   ]
  },
  {
   "cell_type": "code",
   "execution_count": 553,
   "metadata": {},
   "outputs": [],
   "source": [
    "# convert total difference to month\n",
    "df['CohortIndex'] = years_diff*12 + months_diff + 1"
   ]
  },
  {
   "cell_type": "code",
   "execution_count": 554,
   "metadata": {},
   "outputs": [
    {
     "data": {
      "text/plain": [
       "2014-05-01    178794\n",
       "2014-06-01     70330\n",
       "2014-07-01     49575\n",
       "2014-08-01     22876\n",
       "Name: CohortMonth, dtype: int64"
      ]
     },
     "execution_count": 554,
     "metadata": {},
     "output_type": "execute_result"
    }
   ],
   "source": [
    "df['CohortMonth'].value_counts()"
   ]
  },
  {
   "cell_type": "code",
   "execution_count": 555,
   "metadata": {},
   "outputs": [
    {
     "data": {
      "text/plain": [
       "2014-05-01    39750\n",
       "2014-06-01    39039\n",
       "2014-07-01    37201\n",
       "2014-04-01    27679\n",
       "2014-08-01    20680\n",
       "2014-03-01    19260\n",
       "2014-01-01    14877\n",
       "2014-02-01    14606\n",
       "2013-10-01    12039\n",
       "2013-12-01    11978\n",
       "2013-11-01    11717\n",
       "2013-08-01    11184\n",
       "2013-09-01    10588\n",
       "2013-04-01     9223\n",
       "2013-07-01     8675\n",
       "2013-02-01     7691\n",
       "2013-06-01     7172\n",
       "2013-05-01     6219\n",
       "2013-01-01     6162\n",
       "2013-03-01     5835\n",
       "Name: AccountMonth, dtype: int64"
      ]
     },
     "execution_count": 555,
     "metadata": {},
     "output_type": "execute_result"
    }
   ],
   "source": [
    "df['AccountMonth'].value_counts()"
   ]
  },
  {
   "cell_type": "code",
   "execution_count": 556,
   "metadata": {},
   "outputs": [],
   "source": [
    "# count monthly active users from each cohort\n",
    "grouping = df.groupby(['CohortMonth', 'CohortIndex'])\n"
   ]
  },
  {
   "cell_type": "code",
   "execution_count": 557,
   "metadata": {},
   "outputs": [
    {
     "data": {
      "text/html": [
       "<div>\n",
       "<style scoped>\n",
       "    .dataframe tbody tr th:only-of-type {\n",
       "        vertical-align: middle;\n",
       "    }\n",
       "\n",
       "    .dataframe tbody tr th {\n",
       "        vertical-align: top;\n",
       "    }\n",
       "\n",
       "    .dataframe thead th {\n",
       "        text-align: right;\n",
       "    }\n",
       "</style>\n",
       "<table border=\"1\" class=\"dataframe\">\n",
       "  <thead>\n",
       "    <tr style=\"text-align: right;\">\n",
       "      <th></th>\n",
       "      <th>CohortMonth</th>\n",
       "      <th>CohortIndex</th>\n",
       "      <th>user_id</th>\n",
       "    </tr>\n",
       "  </thead>\n",
       "  <tbody>\n",
       "    <tr>\n",
       "      <th>0</th>\n",
       "      <td>2014-05-01</td>\n",
       "      <td>1</td>\n",
       "      <td>2361</td>\n",
       "    </tr>\n",
       "    <tr>\n",
       "      <th>1</th>\n",
       "      <td>2014-05-01</td>\n",
       "      <td>2</td>\n",
       "      <td>1243</td>\n",
       "    </tr>\n",
       "    <tr>\n",
       "      <th>2</th>\n",
       "      <td>2014-05-01</td>\n",
       "      <td>3</td>\n",
       "      <td>997</td>\n",
       "    </tr>\n",
       "    <tr>\n",
       "      <th>3</th>\n",
       "      <td>2014-05-01</td>\n",
       "      <td>4</td>\n",
       "      <td>676</td>\n",
       "    </tr>\n",
       "    <tr>\n",
       "      <th>4</th>\n",
       "      <td>2014-06-01</td>\n",
       "      <td>1</td>\n",
       "      <td>1362</td>\n",
       "    </tr>\n",
       "  </tbody>\n",
       "</table>\n",
       "</div>"
      ],
      "text/plain": [
       "  CohortMonth  CohortIndex  user_id\n",
       "0  2014-05-01            1     2361\n",
       "1  2014-05-01            2     1243\n",
       "2  2014-05-01            3      997\n",
       "3  2014-05-01            4      676\n",
       "4  2014-06-01            1     1362"
      ]
     },
     "execution_count": 557,
     "metadata": {},
     "output_type": "execute_result"
    }
   ],
   "source": [
    "# count number of customers in each group\n",
    "cohort_data = grouping['user_id'].nunique()\n",
    "cohort_data = cohort_data.reset_index()\n",
    "cohort_data.head()"
   ]
  },
  {
   "cell_type": "code",
   "execution_count": 558,
   "metadata": {},
   "outputs": [],
   "source": [
    "cohort_counts = cohort_data.pivot(index='CohortMonth',\n",
    "                                 columns = 'CohortIndex',\n",
    "                                 values='user_id')"
   ]
  },
  {
   "cell_type": "code",
   "execution_count": 559,
   "metadata": {},
   "outputs": [
    {
     "data": {
      "text/html": [
       "<div>\n",
       "<style scoped>\n",
       "    .dataframe tbody tr th:only-of-type {\n",
       "        vertical-align: middle;\n",
       "    }\n",
       "\n",
       "    .dataframe tbody tr th {\n",
       "        vertical-align: top;\n",
       "    }\n",
       "\n",
       "    .dataframe thead th {\n",
       "        text-align: right;\n",
       "    }\n",
       "</style>\n",
       "<table border=\"1\" class=\"dataframe\">\n",
       "  <thead>\n",
       "    <tr style=\"text-align: right;\">\n",
       "      <th>CohortIndex</th>\n",
       "      <th>1</th>\n",
       "      <th>2</th>\n",
       "      <th>3</th>\n",
       "      <th>4</th>\n",
       "    </tr>\n",
       "    <tr>\n",
       "      <th>CohortMonth</th>\n",
       "      <th></th>\n",
       "      <th></th>\n",
       "      <th></th>\n",
       "      <th></th>\n",
       "    </tr>\n",
       "  </thead>\n",
       "  <tbody>\n",
       "    <tr>\n",
       "      <th>2014-05-01</th>\n",
       "      <td>2361.000</td>\n",
       "      <td>1243.000</td>\n",
       "      <td>997.000</td>\n",
       "      <td>676.000</td>\n",
       "    </tr>\n",
       "    <tr>\n",
       "      <th>2014-06-01</th>\n",
       "      <td>1362.000</td>\n",
       "      <td>769.000</td>\n",
       "      <td>372.000</td>\n",
       "      <td>nan</td>\n",
       "    </tr>\n",
       "    <tr>\n",
       "      <th>2014-07-01</th>\n",
       "      <td>1292.000</td>\n",
       "      <td>620.000</td>\n",
       "      <td>nan</td>\n",
       "      <td>nan</td>\n",
       "    </tr>\n",
       "    <tr>\n",
       "      <th>2014-08-01</th>\n",
       "      <td>1127.000</td>\n",
       "      <td>nan</td>\n",
       "      <td>nan</td>\n",
       "      <td>nan</td>\n",
       "    </tr>\n",
       "  </tbody>\n",
       "</table>\n",
       "</div>"
      ],
      "text/plain": [
       "CohortIndex        1        2       3       4\n",
       "CohortMonth                                  \n",
       "2014-05-01  2361.000 1243.000 997.000 676.000\n",
       "2014-06-01  1362.000  769.000 372.000     nan\n",
       "2014-07-01  1292.000  620.000     nan     nan\n",
       "2014-08-01  1127.000      nan     nan     nan"
      ]
     },
     "execution_count": 559,
     "metadata": {},
     "output_type": "execute_result"
    }
   ],
   "source": [
    "cohort_counts"
   ]
  },
  {
   "cell_type": "code",
   "execution_count": 560,
   "metadata": {},
   "outputs": [
    {
     "data": {
      "text/html": [
       "<div>\n",
       "<style scoped>\n",
       "    .dataframe tbody tr th:only-of-type {\n",
       "        vertical-align: middle;\n",
       "    }\n",
       "\n",
       "    .dataframe tbody tr th {\n",
       "        vertical-align: top;\n",
       "    }\n",
       "\n",
       "    .dataframe thead th {\n",
       "        text-align: right;\n",
       "    }\n",
       "</style>\n",
       "<table border=\"1\" class=\"dataframe\">\n",
       "  <thead>\n",
       "    <tr style=\"text-align: right;\">\n",
       "      <th>CohortIndex</th>\n",
       "      <th>1</th>\n",
       "      <th>2</th>\n",
       "      <th>3</th>\n",
       "      <th>4</th>\n",
       "    </tr>\n",
       "    <tr>\n",
       "      <th>CohortMonth</th>\n",
       "      <th></th>\n",
       "      <th></th>\n",
       "      <th></th>\n",
       "      <th></th>\n",
       "    </tr>\n",
       "  </thead>\n",
       "  <tbody>\n",
       "    <tr>\n",
       "      <th>2014-05-01</th>\n",
       "      <td>100.000</td>\n",
       "      <td>52.600</td>\n",
       "      <td>42.200</td>\n",
       "      <td>28.600</td>\n",
       "    </tr>\n",
       "    <tr>\n",
       "      <th>2014-06-01</th>\n",
       "      <td>100.000</td>\n",
       "      <td>56.500</td>\n",
       "      <td>27.300</td>\n",
       "      <td>nan</td>\n",
       "    </tr>\n",
       "    <tr>\n",
       "      <th>2014-07-01</th>\n",
       "      <td>100.000</td>\n",
       "      <td>48.000</td>\n",
       "      <td>nan</td>\n",
       "      <td>nan</td>\n",
       "    </tr>\n",
       "    <tr>\n",
       "      <th>2014-08-01</th>\n",
       "      <td>100.000</td>\n",
       "      <td>nan</td>\n",
       "      <td>nan</td>\n",
       "      <td>nan</td>\n",
       "    </tr>\n",
       "  </tbody>\n",
       "</table>\n",
       "</div>"
      ],
      "text/plain": [
       "CohortIndex       1      2      3      4\n",
       "CohortMonth                             \n",
       "2014-05-01  100.000 52.600 42.200 28.600\n",
       "2014-06-01  100.000 56.500 27.300    nan\n",
       "2014-07-01  100.000 48.000    nan    nan\n",
       "2014-08-01  100.000    nan    nan    nan"
      ]
     },
     "execution_count": 560,
     "metadata": {},
     "output_type": "execute_result"
    }
   ],
   "source": [
    "# calcualate customer retention: how many customers came back in subsequent months\n",
    "\n",
    "# select first column\n",
    "cohort_sizes = cohort_counts.iloc[:,0]\n",
    "\n",
    "# divide all values by cohort size\n",
    "retention = cohort_counts.divide(cohort_sizes, axis=0)\n",
    "\n",
    "# round the number, and make it percentage\n",
    "retention.round(3)*100"
   ]
  },
  {
   "cell_type": "code",
   "execution_count": 564,
   "metadata": {},
   "outputs": [
    {
     "data": {
      "text/plain": [
       "<matplotlib.axes._subplots.AxesSubplot at 0x1a1b5d1240>"
      ]
     },
     "execution_count": 564,
     "metadata": {},
     "output_type": "execute_result"
    },
    {
     "data": {
      "image/png": "[encoded data removed]",
      "text/plain": [
       "<Figure size 720x576 with 2 Axes>"
      ]
     },
     "metadata": {
      "needs_background": "light"
     },
     "output_type": "display_data"
    }
   ],
   "source": [
    "plt.figure(figsize=(10,8))\n",
    "plt.title('Cohort Analysis - Retention Rate')\n",
    "sns.heatmap(data=retention,\n",
    "           annot=True,\n",
    "           fmt='.0%',\n",
    "           vmin=0.0,  \n",
    "           vmax=0.5,\n",
    "           cmap = \"YlGnBu\")"
   ]
  },
  {
   "cell_type": "code",
   "execution_count": 503,
   "metadata": {},
   "outputs": [
    {
     "name": "stdout",
     "output_type": "stream",
     "text": [
      "2013-01-01 04:40:10\n",
      "2014-08-31 20:22:54\n",
      "2014-05-01 02:27:15\n",
      "2014-08-31 23:03:39\n",
      "2013-01-01 04:38:30\n",
      "2014-08-31 20:21:14\n"
     ]
    }
   ],
   "source": [
    "# weekly cohorts\n",
    "\n",
    "# df['OccurredWeek'] = pd.to_datetime(df['occurred_at'], format='%Y-%m-%d %H:%M:%S').apply(get_month)\n",
    "\n"
   ]
  },
  {
   "cell_type": "code",
   "execution_count": null,
   "metadata": {},
   "outputs": [],
   "source": []
  },
  {
   "cell_type": "code",
   "execution_count": null,
   "metadata": {},
   "outputs": [],
   "source": []
  }
 ],
 "metadata": {
  "kernelspec": {
   "display_name": "Python 3",
   "language": "python",
   "name": "python3"
  },
  "language_info": {
   "codemirror_mode": {
    "name": "ipython",
    "version": 3
   },
   "file_extension": ".py",
   "mimetype": "text/x-python",
   "name": "python",
   "nbconvert_exporter": "python",
   "pygments_lexer": "ipython3",
   "version": "3.6.8"
  }
 },
 "nbformat": 4,
 "nbformat_minor": 2
}
